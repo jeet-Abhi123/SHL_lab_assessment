{
 "cells": [
  {
   "cell_type": "code",
   "execution_count": 33,
   "metadata": {
    "_cell_guid": "b1076dfc-b9ad-4769-8c92-a6c4dae69d19",
    "_uuid": "8f2839f25d086af736a60e9eeb907d3b93b6e0e5",
    "execution": {
     "iopub.execute_input": "2025-04-06T18:01:23.743953Z",
     "iopub.status.busy": "2025-04-06T18:01:23.743619Z",
     "iopub.status.idle": "2025-04-06T18:01:24.803574Z",
     "shell.execute_reply": "2025-04-06T18:01:24.802589Z",
     "shell.execute_reply.started": "2025-04-06T18:01:23.743930Z"
    },
    "trusted": true
   },
   "outputs": [
    {
     "name": "stdout",
     "output_type": "stream",
     "text": [
      "/kaggle/input/shl-hiring-tests/dataset/sample_submission.csv\n",
      "/kaggle/input/shl-hiring-tests/dataset/train.csv\n",
      "/kaggle/input/shl-hiring-tests/dataset/test.csv\n",
      "/kaggle/input/shl-hiring-tests/dataset/audios_test/audio_885.wav\n",
      "/kaggle/input/shl-hiring-tests/dataset/audios_test/audio_698.wav\n",
      "/kaggle/input/shl-hiring-tests/dataset/audios_test/audio_1176.wav\n",
      "/kaggle/input/shl-hiring-tests/dataset/audios_test/audio_1215.wav\n",
      "/kaggle/input/shl-hiring-tests/dataset/audios_test/audio_66.wav\n",
      "/kaggle/input/shl-hiring-tests/dataset/audios_test/audio_386.wav\n",
      "/kaggle/input/shl-hiring-tests/dataset/audios_test/audio_1026.wav\n",
      "/kaggle/input/shl-hiring-tests/dataset/audios_test/audio_330.wav\n",
      "/kaggle/input/shl-hiring-tests/dataset/audios_test/audio_72.wav\n",
      "/kaggle/input/shl-hiring-tests/dataset/audios_test/audio_858.wav\n",
      "/kaggle/input/shl-hiring-tests/dataset/audios_test/audio_107.wav\n",
      "/kaggle/input/shl-hiring-tests/dataset/audios_test/audio_820.wav\n",
      "/kaggle/input/shl-hiring-tests/dataset/audios_test/audio_300.wav\n",
      "/kaggle/input/shl-hiring-tests/dataset/audios_test/audio_435.wav\n",
      "/kaggle/input/shl-hiring-tests/dataset/audios_test/audio_550.wav\n",
      "/kaggle/input/shl-hiring-tests/dataset/audios_test/audio_841.wav\n",
      "/kaggle/input/shl-hiring-tests/dataset/audios_test/audio_641.wav\n",
      "/kaggle/input/shl-hiring-tests/dataset/audios_test/audio_290.wav\n",
      "/kaggle/input/shl-hiring-tests/dataset/audios_test/audio_401.wav\n",
      "/kaggle/input/shl-hiring-tests/dataset/audios_test/audio_321.wav\n",
      "/kaggle/input/shl-hiring-tests/dataset/audios_test/audio_20.wav\n",
      "/kaggle/input/shl-hiring-tests/dataset/audios_test/audio_348.wav\n",
      "/kaggle/input/shl-hiring-tests/dataset/audios_test/audio_500.wav\n",
      "/kaggle/input/shl-hiring-tests/dataset/audios_test/audio_735.wav\n",
      "/kaggle/input/shl-hiring-tests/dataset/audios_test/audio_888.wav\n",
      "/kaggle/input/shl-hiring-tests/dataset/audios_test/audio_959.wav\n",
      "/kaggle/input/shl-hiring-tests/dataset/audios_test/audio_276.wav\n",
      "/kaggle/input/shl-hiring-tests/dataset/audios_test/audio_1323.wav\n",
      "/kaggle/input/shl-hiring-tests/dataset/audios_test/audio_1089.wav\n",
      "/kaggle/input/shl-hiring-tests/dataset/audios_test/audio_1289.wav\n",
      "/kaggle/input/shl-hiring-tests/dataset/audios_test/audio_29.wav\n",
      "/kaggle/input/shl-hiring-tests/dataset/audios_test/audio_676.wav\n",
      "/kaggle/input/shl-hiring-tests/dataset/audios_test/audio_811.wav\n",
      "/kaggle/input/shl-hiring-tests/dataset/audios_test/audio_762.wav\n",
      "/kaggle/input/shl-hiring-tests/dataset/audios_test/audio_1183.wav\n",
      "/kaggle/input/shl-hiring-tests/dataset/audios_test/audio_1297.wav\n",
      "/kaggle/input/shl-hiring-tests/dataset/audios_test/audio_709.wav\n",
      "/kaggle/input/shl-hiring-tests/dataset/audios_test/audio_281.wav\n",
      "/kaggle/input/shl-hiring-tests/dataset/audios_test/audio_308.wav\n",
      "/kaggle/input/shl-hiring-tests/dataset/audios_test/audio_1054.wav\n",
      "/kaggle/input/shl-hiring-tests/dataset/audios_test/audio_662.wav\n",
      "/kaggle/input/shl-hiring-tests/dataset/audios_test/audio_525.wav\n",
      "/kaggle/input/shl-hiring-tests/dataset/audios_test/audio_633.wav\n",
      "/kaggle/input/shl-hiring-tests/dataset/audios_test/audio_274.wav\n",
      "/kaggle/input/shl-hiring-tests/dataset/audios_test/audio_922.wav\n",
      "/kaggle/input/shl-hiring-tests/dataset/audios_test/audio_683.wav\n",
      "/kaggle/input/shl-hiring-tests/dataset/audios_test/audio_1275.wav\n",
      "/kaggle/input/shl-hiring-tests/dataset/audios_test/audio_541.wav\n",
      "/kaggle/input/shl-hiring-tests/dataset/audios_test/audio_113.wav\n",
      "/kaggle/input/shl-hiring-tests/dataset/audios_test/audio_665.wav\n",
      "/kaggle/input/shl-hiring-tests/dataset/audios_test/audio_543.wav\n",
      "/kaggle/input/shl-hiring-tests/dataset/audios_test/audio_1012.wav\n",
      "/kaggle/input/shl-hiring-tests/dataset/audios_test/audio_759.wav\n",
      "/kaggle/input/shl-hiring-tests/dataset/audios_test/audio_225.wav\n",
      "/kaggle/input/shl-hiring-tests/dataset/audios_test/audio_644.wav\n",
      "/kaggle/input/shl-hiring-tests/dataset/audios_test/audio_1035.wav\n",
      "/kaggle/input/shl-hiring-tests/dataset/audios_test/audio_1159.wav\n",
      "/kaggle/input/shl-hiring-tests/dataset/audios_test/audio_1179.wav\n",
      "/kaggle/input/shl-hiring-tests/dataset/audios_test/audio_1048.wav\n",
      "/kaggle/input/shl-hiring-tests/dataset/audios_test/audio_499.wav\n",
      "/kaggle/input/shl-hiring-tests/dataset/audios_test/audio_1123.wav\n",
      "/kaggle/input/shl-hiring-tests/dataset/audios_test/audio_1116.wav\n",
      "/kaggle/input/shl-hiring-tests/dataset/audios_test/audio_521.wav\n",
      "/kaggle/input/shl-hiring-tests/dataset/audios_test/audio_1013.wav\n",
      "/kaggle/input/shl-hiring-tests/dataset/audios_test/audio_198.wav\n",
      "/kaggle/input/shl-hiring-tests/dataset/audios_test/audio_1278.wav\n",
      "/kaggle/input/shl-hiring-tests/dataset/audios_test/audio_4.wav\n",
      "/kaggle/input/shl-hiring-tests/dataset/audios_test/audio_165.wav\n",
      "/kaggle/input/shl-hiring-tests/dataset/audios_test/audio_19.wav\n",
      "/kaggle/input/shl-hiring-tests/dataset/audios_test/audio_261.wav\n",
      "/kaggle/input/shl-hiring-tests/dataset/audios_test/audio_998.wav\n",
      "/kaggle/input/shl-hiring-tests/dataset/audios_test/audio_89.wav\n",
      "/kaggle/input/shl-hiring-tests/dataset/audios_test/audio_1280.wav\n",
      "/kaggle/input/shl-hiring-tests/dataset/audios_test/audio_971.wav\n",
      "/kaggle/input/shl-hiring-tests/dataset/audios_test/audio_322.wav\n",
      "/kaggle/input/shl-hiring-tests/dataset/audios_test/audio_1058.wav\n",
      "/kaggle/input/shl-hiring-tests/dataset/audios_test/audio_1068.wav\n",
      "/kaggle/input/shl-hiring-tests/dataset/audios_test/audio_719.wav\n",
      "/kaggle/input/shl-hiring-tests/dataset/audios_test/audio_1205.wav\n",
      "/kaggle/input/shl-hiring-tests/dataset/audios_test/audio_1315.wav\n",
      "/kaggle/input/shl-hiring-tests/dataset/audios_test/audio_1061.wav\n",
      "/kaggle/input/shl-hiring-tests/dataset/audios_test/audio_1091.wav\n",
      "/kaggle/input/shl-hiring-tests/dataset/audios_test/audio_75.wav\n",
      "/kaggle/input/shl-hiring-tests/dataset/audios_test/audio_217.wav\n",
      "/kaggle/input/shl-hiring-tests/dataset/audios_test/audio_95.wav\n",
      "/kaggle/input/shl-hiring-tests/dataset/audios_test/audio_159.wav\n",
      "/kaggle/input/shl-hiring-tests/dataset/audios_test/audio_545.wav\n",
      "/kaggle/input/shl-hiring-tests/dataset/audios_test/audio_379.wav\n",
      "/kaggle/input/shl-hiring-tests/dataset/audios_test/audio_137.wav\n",
      "/kaggle/input/shl-hiring-tests/dataset/audios_test/audio_1124.wav\n",
      "/kaggle/input/shl-hiring-tests/dataset/audios_test/audio_177.wav\n",
      "/kaggle/input/shl-hiring-tests/dataset/audios_test/audio_180.wav\n",
      "/kaggle/input/shl-hiring-tests/dataset/audios_test/audio_726.wav\n",
      "/kaggle/input/shl-hiring-tests/dataset/audios_test/audio_1081.wav\n",
      "/kaggle/input/shl-hiring-tests/dataset/audios_test/audio_519.wav\n",
      "/kaggle/input/shl-hiring-tests/dataset/audios_test/audio_285.wav\n",
      "/kaggle/input/shl-hiring-tests/dataset/audios_test/audio_569.wav\n",
      "/kaggle/input/shl-hiring-tests/dataset/audios_test/audio_800.wav\n",
      "/kaggle/input/shl-hiring-tests/dataset/audios_test/audio_218.wav\n",
      "/kaggle/input/shl-hiring-tests/dataset/audios_test/audio_148.wav\n",
      "/kaggle/input/shl-hiring-tests/dataset/audios_test/audio_408.wav\n",
      "/kaggle/input/shl-hiring-tests/dataset/audios_test/audio_1122.wav\n",
      "/kaggle/input/shl-hiring-tests/dataset/audios_test/audio_884.wav\n",
      "/kaggle/input/shl-hiring-tests/dataset/audios_test/audio_488.wav\n",
      "/kaggle/input/shl-hiring-tests/dataset/audios_test/audio_733.wav\n",
      "/kaggle/input/shl-hiring-tests/dataset/audios_test/audio_235.wav\n",
      "/kaggle/input/shl-hiring-tests/dataset/audios_test/audio_286.wav\n",
      "/kaggle/input/shl-hiring-tests/dataset/audios_test/audio_263.wav\n",
      "/kaggle/input/shl-hiring-tests/dataset/audios_test/audio_1022.wav\n",
      "/kaggle/input/shl-hiring-tests/dataset/audios_test/audio_656.wav\n",
      "/kaggle/input/shl-hiring-tests/dataset/audios_test/audio_1101.wav\n",
      "/kaggle/input/shl-hiring-tests/dataset/audios_test/audio_1286.wav\n",
      "/kaggle/input/shl-hiring-tests/dataset/audios_test/audio_287.wav\n",
      "/kaggle/input/shl-hiring-tests/dataset/audios_test/audio_1293.wav\n",
      "/kaggle/input/shl-hiring-tests/dataset/audios_test/audio_692.wav\n",
      "/kaggle/input/shl-hiring-tests/dataset/audios_test/audio_1190.wav\n",
      "/kaggle/input/shl-hiring-tests/dataset/audios_test/audio_1173.wav\n",
      "/kaggle/input/shl-hiring-tests/dataset/audios_test/audio_388.wav\n",
      "/kaggle/input/shl-hiring-tests/dataset/audios_test/audio_767.wav\n",
      "/kaggle/input/shl-hiring-tests/dataset/audios_test/audio_1242.wav\n",
      "/kaggle/input/shl-hiring-tests/dataset/audios_test/audio_1311.wav\n",
      "/kaggle/input/shl-hiring-tests/dataset/audios_test/audio_540.wav\n",
      "/kaggle/input/shl-hiring-tests/dataset/audios_test/audio_932.wav\n",
      "/kaggle/input/shl-hiring-tests/dataset/audios_test/audio_448.wav\n",
      "/kaggle/input/shl-hiring-tests/dataset/audios_test/audio_949.wav\n",
      "/kaggle/input/shl-hiring-tests/dataset/audios_test/audio_908.wav\n",
      "/kaggle/input/shl-hiring-tests/dataset/audios_test/audio_158.wav\n",
      "/kaggle/input/shl-hiring-tests/dataset/audios_test/audio_172.wav\n",
      "/kaggle/input/shl-hiring-tests/dataset/audios_test/audio_958.wav\n",
      "/kaggle/input/shl-hiring-tests/dataset/audios_test/audio_805.wav\n",
      "/kaggle/input/shl-hiring-tests/dataset/audios_test/audio_746.wav\n",
      "/kaggle/input/shl-hiring-tests/dataset/audios_test/audio_221.wav\n",
      "/kaggle/input/shl-hiring-tests/dataset/audios_test/audio_391.wav\n",
      "/kaggle/input/shl-hiring-tests/dataset/audios_test/audio_21.wav\n",
      "/kaggle/input/shl-hiring-tests/dataset/audios_test/audio_1169.wav\n",
      "/kaggle/input/shl-hiring-tests/dataset/audios_test/audio_68.wav\n",
      "/kaggle/input/shl-hiring-tests/dataset/audios_test/audio_529.wav\n",
      "/kaggle/input/shl-hiring-tests/dataset/audios_test/audio_138.wav\n",
      "/kaggle/input/shl-hiring-tests/dataset/audios_test/audio_1195.wav\n",
      "/kaggle/input/shl-hiring-tests/dataset/audios_test/audio_580.wav\n",
      "/kaggle/input/shl-hiring-tests/dataset/audios_test/audio_360.wav\n",
      "/kaggle/input/shl-hiring-tests/dataset/audios_test/audio_1033.wav\n",
      "/kaggle/input/shl-hiring-tests/dataset/audios_test/audio_1240.wav\n",
      "/kaggle/input/shl-hiring-tests/dataset/audios_test/audio_10.wav\n",
      "/kaggle/input/shl-hiring-tests/dataset/audios_test/audio_48.wav\n",
      "/kaggle/input/shl-hiring-tests/dataset/audios_test/audio_1193.wav\n",
      "/kaggle/input/shl-hiring-tests/dataset/audios_test/audio_1217.wav\n",
      "/kaggle/input/shl-hiring-tests/dataset/audios_test/audio_1292.wav\n",
      "/kaggle/input/shl-hiring-tests/dataset/audios_test/audio_282.wav\n",
      "/kaggle/input/shl-hiring-tests/dataset/audios_test/audio_599.wav\n",
      "/kaggle/input/shl-hiring-tests/dataset/audios_test/audio_153.wav\n",
      "/kaggle/input/shl-hiring-tests/dataset/audios_test/audio_564.wav\n",
      "/kaggle/input/shl-hiring-tests/dataset/audios_test/audio_1019.wav\n",
      "/kaggle/input/shl-hiring-tests/dataset/audios_test/audio_196.wav\n",
      "/kaggle/input/shl-hiring-tests/dataset/audios_test/audio_1115.wav\n",
      "/kaggle/input/shl-hiring-tests/dataset/audios_test/audio_103.wav\n",
      "/kaggle/input/shl-hiring-tests/dataset/audios_test/audio_1291.wav\n",
      "/kaggle/input/shl-hiring-tests/dataset/audios_test/audio_690.wav\n",
      "/kaggle/input/shl-hiring-tests/dataset/audios_test/audio_706.wav\n",
      "/kaggle/input/shl-hiring-tests/dataset/audios_test/audio_1214.wav\n",
      "/kaggle/input/shl-hiring-tests/dataset/audios_test/audio_1138.wav\n",
      "/kaggle/input/shl-hiring-tests/dataset/audios_test/audio_831.wav\n",
      "/kaggle/input/shl-hiring-tests/dataset/audios_test/audio_857.wav\n",
      "/kaggle/input/shl-hiring-tests/dataset/audios_test/audio_1267.wav\n",
      "/kaggle/input/shl-hiring-tests/dataset/audios_test/audio_135.wav\n",
      "/kaggle/input/shl-hiring-tests/dataset/audios_test/audio_433.wav\n",
      "/kaggle/input/shl-hiring-tests/dataset/audios_test/audio_556.wav\n",
      "/kaggle/input/shl-hiring-tests/dataset/audios_test/audio_306.wav\n",
      "/kaggle/input/shl-hiring-tests/dataset/audios_test/audio_109.wav\n",
      "/kaggle/input/shl-hiring-tests/dataset/audios_test/audio_1256.wav\n",
      "/kaggle/input/shl-hiring-tests/dataset/audios_test/audio_34.wav\n",
      "/kaggle/input/shl-hiring-tests/dataset/audios_test/audio_572.wav\n",
      "/kaggle/input/shl-hiring-tests/dataset/audios_test/audio_487.wav\n",
      "/kaggle/input/shl-hiring-tests/dataset/audios_test/audio_554.wav\n",
      "/kaggle/input/shl-hiring-tests/dataset/audios_test/audio_512.wav\n",
      "/kaggle/input/shl-hiring-tests/dataset/audios_test/audio_1317.wav\n",
      "/kaggle/input/shl-hiring-tests/dataset/audios_test/audio_179.wav\n",
      "/kaggle/input/shl-hiring-tests/dataset/audios_test/audio_604.wav\n",
      "/kaggle/input/shl-hiring-tests/dataset/audios_test/audio_882.wav\n",
      "/kaggle/input/shl-hiring-tests/dataset/audios_test/audio_437.wav\n",
      "/kaggle/input/shl-hiring-tests/dataset/audios_test/audio_920.wav\n",
      "/kaggle/input/shl-hiring-tests/dataset/audios_test/audio_546.wav\n",
      "/kaggle/input/shl-hiring-tests/dataset/audios_test/audio_1178.wav\n",
      "/kaggle/input/shl-hiring-tests/dataset/audios_test/audio_702.wav\n",
      "/kaggle/input/shl-hiring-tests/dataset/audios_test/audio_1243.wav\n",
      "/kaggle/input/shl-hiring-tests/dataset/audios_test/audio_394.wav\n",
      "/kaggle/input/shl-hiring-tests/dataset/audios_test/audio_428.wav\n",
      "/kaggle/input/shl-hiring-tests/dataset/audios_test/audio_1321.wav\n",
      "/kaggle/input/shl-hiring-tests/dataset/audios_test/audio_422.wav\n",
      "/kaggle/input/shl-hiring-tests/dataset/audios_test/audio_713.wav\n",
      "/kaggle/input/shl-hiring-tests/dataset/audios_test/audio_320.wav\n",
      "/kaggle/input/shl-hiring-tests/dataset/audios_test/audio_770.wav\n",
      "/kaggle/input/shl-hiring-tests/dataset/audios_test/audio_1166.wav\n",
      "/kaggle/input/shl-hiring-tests/dataset/audios_test/audio_151.wav\n",
      "/kaggle/input/shl-hiring-tests/dataset/audios_test/audio_897.wav\n",
      "/kaggle/input/shl-hiring-tests/dataset/audios_train/audio_90.wav\n",
      "/kaggle/input/shl-hiring-tests/dataset/audios_train/audio_581.wav\n",
      "/kaggle/input/shl-hiring-tests/dataset/audios_train/audio_77.wav\n",
      "/kaggle/input/shl-hiring-tests/dataset/audios_train/audio_817.wav\n",
      "/kaggle/input/shl-hiring-tests/dataset/audios_train/audio_694.wav\n",
      "/kaggle/input/shl-hiring-tests/dataset/audios_train/audio_1262.wav\n",
      "/kaggle/input/shl-hiring-tests/dataset/audios_train/audio_237.wav\n",
      "/kaggle/input/shl-hiring-tests/dataset/audios_train/audio_765.wav\n",
      "/kaggle/input/shl-hiring-tests/dataset/audios_train/audio_1164.wav\n",
      "/kaggle/input/shl-hiring-tests/dataset/audios_train/audio_1251.wav\n",
      "/kaggle/input/shl-hiring-tests/dataset/audios_train/audio_1032.wav\n",
      "/kaggle/input/shl-hiring-tests/dataset/audios_train/audio_688.wav\n",
      "/kaggle/input/shl-hiring-tests/dataset/audios_train/audio_886.wav\n",
      "/kaggle/input/shl-hiring-tests/dataset/audios_train/audio_1129.wav\n",
      "/kaggle/input/shl-hiring-tests/dataset/audios_train/audio_464.wav\n",
      "/kaggle/input/shl-hiring-tests/dataset/audios_train/audio_1040.wav\n",
      "/kaggle/input/shl-hiring-tests/dataset/audios_train/audio_711.wav\n",
      "/kaggle/input/shl-hiring-tests/dataset/audios_train/audio_853.wav\n",
      "/kaggle/input/shl-hiring-tests/dataset/audios_train/audio_436.wav\n",
      "/kaggle/input/shl-hiring-tests/dataset/audios_train/audio_538.wav\n",
      "/kaggle/input/shl-hiring-tests/dataset/audios_train/audio_859.wav\n",
      "/kaggle/input/shl-hiring-tests/dataset/audios_train/audio_547.wav\n",
      "/kaggle/input/shl-hiring-tests/dataset/audios_train/audio_1266.wav\n",
      "/kaggle/input/shl-hiring-tests/dataset/audios_train/audio_919.wav\n",
      "/kaggle/input/shl-hiring-tests/dataset/audios_train/audio_1036.wav\n",
      "/kaggle/input/shl-hiring-tests/dataset/audios_train/audio_796.wav\n",
      "/kaggle/input/shl-hiring-tests/dataset/audios_train/audio_994.wav\n",
      "/kaggle/input/shl-hiring-tests/dataset/audios_train/audio_760.wav\n",
      "/kaggle/input/shl-hiring-tests/dataset/audios_train/audio_315.wav\n",
      "/kaggle/input/shl-hiring-tests/dataset/audios_train/audio_1028.wav\n",
      "/kaggle/input/shl-hiring-tests/dataset/audios_train/audio_55.wav\n",
      "/kaggle/input/shl-hiring-tests/dataset/audios_train/audio_1284.wav\n",
      "/kaggle/input/shl-hiring-tests/dataset/audios_train/audio_950.wav\n",
      "/kaggle/input/shl-hiring-tests/dataset/audios_train/audio_256.wav\n",
      "/kaggle/input/shl-hiring-tests/dataset/audios_train/audio_359.wav\n",
      "/kaggle/input/shl-hiring-tests/dataset/audios_train/audio_462.wav\n",
      "/kaggle/input/shl-hiring-tests/dataset/audios_train/audio_44.wav\n",
      "/kaggle/input/shl-hiring-tests/dataset/audios_train/audio_753.wav\n",
      "/kaggle/input/shl-hiring-tests/dataset/audios_train/audio_813.wav\n",
      "/kaggle/input/shl-hiring-tests/dataset/audios_train/audio_7.wav\n",
      "/kaggle/input/shl-hiring-tests/dataset/audios_train/audio_1100.wav\n",
      "/kaggle/input/shl-hiring-tests/dataset/audios_train/audio_1131.wav\n",
      "/kaggle/input/shl-hiring-tests/dataset/audios_train/audio_119.wav\n",
      "/kaggle/input/shl-hiring-tests/dataset/audios_train/audio_59.wav\n",
      "/kaggle/input/shl-hiring-tests/dataset/audios_train/audio_802.wav\n",
      "/kaggle/input/shl-hiring-tests/dataset/audios_train/audio_518.wav\n",
      "/kaggle/input/shl-hiring-tests/dataset/audios_train/audio_12.wav\n",
      "/kaggle/input/shl-hiring-tests/dataset/audios_train/audio_591.wav\n",
      "/kaggle/input/shl-hiring-tests/dataset/audios_train/audio_536.wav\n",
      "/kaggle/input/shl-hiring-tests/dataset/audios_train/audio_1082.wav\n",
      "/kaggle/input/shl-hiring-tests/dataset/audios_train/audio_404.wav\n",
      "/kaggle/input/shl-hiring-tests/dataset/audios_train/audio_254.wav\n",
      "/kaggle/input/shl-hiring-tests/dataset/audios_train/audio_990.wav\n",
      "/kaggle/input/shl-hiring-tests/dataset/audios_train/audio_513.wav\n",
      "/kaggle/input/shl-hiring-tests/dataset/audios_train/audio_653.wav\n",
      "/kaggle/input/shl-hiring-tests/dataset/audios_train/audio_1177.wav\n",
      "/kaggle/input/shl-hiring-tests/dataset/audios_train/audio_188.wav\n",
      "/kaggle/input/shl-hiring-tests/dataset/audios_train/audio_539.wav\n",
      "/kaggle/input/shl-hiring-tests/dataset/audios_train/audio_289.wav\n",
      "/kaggle/input/shl-hiring-tests/dataset/audios_train/audio_778.wav\n",
      "/kaggle/input/shl-hiring-tests/dataset/audios_train/audio_1210.wav\n",
      "/kaggle/input/shl-hiring-tests/dataset/audios_train/audio_946.wav\n",
      "/kaggle/input/shl-hiring-tests/dataset/audios_train/audio_67.wav\n",
      "/kaggle/input/shl-hiring-tests/dataset/audios_train/audio_186.wav\n",
      "/kaggle/input/shl-hiring-tests/dataset/audios_train/audio_600.wav\n",
      "/kaggle/input/shl-hiring-tests/dataset/audios_train/audio_1277.wav\n",
      "/kaggle/input/shl-hiring-tests/dataset/audios_train/audio_291.wav\n",
      "/kaggle/input/shl-hiring-tests/dataset/audios_train/audio_602.wav\n",
      "/kaggle/input/shl-hiring-tests/dataset/audios_train/audio_1150.wav\n",
      "/kaggle/input/shl-hiring-tests/dataset/audios_train/audio_1118.wav\n",
      "/kaggle/input/shl-hiring-tests/dataset/audios_train/audio_1106.wav\n",
      "/kaggle/input/shl-hiring-tests/dataset/audios_train/audio_1312.wav\n",
      "/kaggle/input/shl-hiring-tests/dataset/audios_train/audio_495.wav\n",
      "/kaggle/input/shl-hiring-tests/dataset/audios_train/audio_265.wav\n",
      "/kaggle/input/shl-hiring-tests/dataset/audios_train/audio_558.wav\n",
      "/kaggle/input/shl-hiring-tests/dataset/audios_train/audio_82.wav\n",
      "/kaggle/input/shl-hiring-tests/dataset/audios_train/audio_61.wav\n",
      "/kaggle/input/shl-hiring-tests/dataset/audios_train/audio_964.wav\n",
      "/kaggle/input/shl-hiring-tests/dataset/audios_train/audio_526.wav\n",
      "/kaggle/input/shl-hiring-tests/dataset/audios_train/audio_1285.wav\n",
      "/kaggle/input/shl-hiring-tests/dataset/audios_train/audio_32.wav\n",
      "/kaggle/input/shl-hiring-tests/dataset/audios_train/audio_535.wav\n",
      "/kaggle/input/shl-hiring-tests/dataset/audios_train/audio_110.wav\n",
      "/kaggle/input/shl-hiring-tests/dataset/audios_train/audio_1172.wav\n",
      "/kaggle/input/shl-hiring-tests/dataset/audios_train/audio_567.wav\n",
      "/kaggle/input/shl-hiring-tests/dataset/audios_train/audio_1325.wav\n",
      "/kaggle/input/shl-hiring-tests/dataset/audios_train/audio_374.wav\n",
      "/kaggle/input/shl-hiring-tests/dataset/audios_train/audio_944.wav\n",
      "/kaggle/input/shl-hiring-tests/dataset/audios_train/audio_327.wav\n",
      "/kaggle/input/shl-hiring-tests/dataset/audios_train/audio_120.wav\n",
      "/kaggle/input/shl-hiring-tests/dataset/audios_train/audio_297.wav\n",
      "/kaggle/input/shl-hiring-tests/dataset/audios_train/audio_1212.wav\n",
      "/kaggle/input/shl-hiring-tests/dataset/audios_train/audio_899.wav\n",
      "/kaggle/input/shl-hiring-tests/dataset/audios_train/audio_516.wav\n",
      "/kaggle/input/shl-hiring-tests/dataset/audios_train/audio_441.wav\n",
      "/kaggle/input/shl-hiring-tests/dataset/audios_train/audio_848.wav\n",
      "/kaggle/input/shl-hiring-tests/dataset/audios_train/audio_1103.wav\n",
      "/kaggle/input/shl-hiring-tests/dataset/audios_train/audio_346.wav\n",
      "/kaggle/input/shl-hiring-tests/dataset/audios_train/audio_446.wav\n",
      "/kaggle/input/shl-hiring-tests/dataset/audios_train/audio_104.wav\n",
      "/kaggle/input/shl-hiring-tests/dataset/audios_train/audio_1236.wav\n",
      "/kaggle/input/shl-hiring-tests/dataset/audios_train/audio_957.wav\n",
      "/kaggle/input/shl-hiring-tests/dataset/audios_train/audio_776.wav\n",
      "/kaggle/input/shl-hiring-tests/dataset/audios_train/audio_1163.wav\n",
      "/kaggle/input/shl-hiring-tests/dataset/audios_train/audio_642.wav\n",
      "/kaggle/input/shl-hiring-tests/dataset/audios_train/audio_479.wav\n",
      "/kaggle/input/shl-hiring-tests/dataset/audios_train/audio_940.wav\n",
      "/kaggle/input/shl-hiring-tests/dataset/audios_train/audio_1171.wav\n",
      "/kaggle/input/shl-hiring-tests/dataset/audios_train/audio_563.wav\n",
      "/kaggle/input/shl-hiring-tests/dataset/audios_train/audio_773.wav\n",
      "/kaggle/input/shl-hiring-tests/dataset/audios_train/audio_71.wav\n",
      "/kaggle/input/shl-hiring-tests/dataset/audios_train/audio_76.wav\n",
      "/kaggle/input/shl-hiring-tests/dataset/audios_train/audio_905.wav\n",
      "/kaggle/input/shl-hiring-tests/dataset/audios_train/audio_925.wav\n",
      "/kaggle/input/shl-hiring-tests/dataset/audios_train/audio_205.wav\n",
      "/kaggle/input/shl-hiring-tests/dataset/audios_train/audio_345.wav\n",
      "/kaggle/input/shl-hiring-tests/dataset/audios_train/audio_661.wav\n",
      "/kaggle/input/shl-hiring-tests/dataset/audios_train/audio_102.wav\n",
      "/kaggle/input/shl-hiring-tests/dataset/audios_train/audio_1136.wav\n",
      "/kaggle/input/shl-hiring-tests/dataset/audios_train/audio_1304.wav\n",
      "/kaggle/input/shl-hiring-tests/dataset/audios_train/audio_399.wav\n",
      "/kaggle/input/shl-hiring-tests/dataset/audios_train/audio_1126.wav\n",
      "/kaggle/input/shl-hiring-tests/dataset/audios_train/audio_1024.wav\n",
      "/kaggle/input/shl-hiring-tests/dataset/audios_train/audio_45.wav\n",
      "/kaggle/input/shl-hiring-tests/dataset/audios_train/audio_812.wav\n",
      "/kaggle/input/shl-hiring-tests/dataset/audios_train/audio_860.wav\n",
      "/kaggle/input/shl-hiring-tests/dataset/audios_train/audio_942.wav\n",
      "/kaggle/input/shl-hiring-tests/dataset/audios_train/audio_414.wav\n",
      "/kaggle/input/shl-hiring-tests/dataset/audios_train/audio_725.wav\n",
      "/kaggle/input/shl-hiring-tests/dataset/audios_train/audio_1245.wav\n",
      "/kaggle/input/shl-hiring-tests/dataset/audios_train/audio_275.wav\n",
      "/kaggle/input/shl-hiring-tests/dataset/audios_train/audio_590.wav\n",
      "/kaggle/input/shl-hiring-tests/dataset/audios_train/audio_955.wav\n",
      "/kaggle/input/shl-hiring-tests/dataset/audios_train/audio_478.wav\n",
      "/kaggle/input/shl-hiring-tests/dataset/audios_train/audio_779.wav\n",
      "/kaggle/input/shl-hiring-tests/dataset/audios_train/audio_2.wav\n",
      "/kaggle/input/shl-hiring-tests/dataset/audios_train/audio_447.wav\n",
      "/kaggle/input/shl-hiring-tests/dataset/audios_train/audio_807.wav\n",
      "/kaggle/input/shl-hiring-tests/dataset/audios_train/audio_223.wav\n",
      "/kaggle/input/shl-hiring-tests/dataset/audios_train/audio_1268.wav\n",
      "/kaggle/input/shl-hiring-tests/dataset/audios_train/audio_118.wav\n",
      "/kaggle/input/shl-hiring-tests/dataset/audios_train/audio_1202.wav\n",
      "/kaggle/input/shl-hiring-tests/dataset/audios_train/audio_549.wav\n",
      "/kaggle/input/shl-hiring-tests/dataset/audios_train/audio_1069.wav\n",
      "/kaggle/input/shl-hiring-tests/dataset/audios_train/audio_366.wav\n",
      "/kaggle/input/shl-hiring-tests/dataset/audios_train/audio_743.wav\n",
      "/kaggle/input/shl-hiring-tests/dataset/audios_train/audio_210.wav\n",
      "/kaggle/input/shl-hiring-tests/dataset/audios_train/audio_874.wav\n",
      "/kaggle/input/shl-hiring-tests/dataset/audios_train/audio_705.wav\n",
      "/kaggle/input/shl-hiring-tests/dataset/audios_train/audio_952.wav\n",
      "/kaggle/input/shl-hiring-tests/dataset/audios_train/audio_836.wav\n",
      "/kaggle/input/shl-hiring-tests/dataset/audios_train/audio_396.wav\n",
      "/kaggle/input/shl-hiring-tests/dataset/audios_train/audio_1239.wav\n",
      "/kaggle/input/shl-hiring-tests/dataset/audios_train/audio_909.wav\n",
      "/kaggle/input/shl-hiring-tests/dataset/audios_train/audio_583.wav\n",
      "/kaggle/input/shl-hiring-tests/dataset/audios_train/audio_1114.wav\n",
      "/kaggle/input/shl-hiring-tests/dataset/audios_train/audio_771.wav\n",
      "/kaggle/input/shl-hiring-tests/dataset/audios_train/audio_989.wav\n",
      "/kaggle/input/shl-hiring-tests/dataset/audios_train/audio_1182.wav\n",
      "/kaggle/input/shl-hiring-tests/dataset/audios_train/audio_865.wav\n",
      "/kaggle/input/shl-hiring-tests/dataset/audios_train/audio_278.wav\n",
      "/kaggle/input/shl-hiring-tests/dataset/audios_train/audio_468.wav\n",
      "/kaggle/input/shl-hiring-tests/dataset/audios_train/audio_930.wav\n",
      "/kaggle/input/shl-hiring-tests/dataset/audios_train/audio_314.wav\n",
      "/kaggle/input/shl-hiring-tests/dataset/audios_train/audio_697.wav\n",
      "/kaggle/input/shl-hiring-tests/dataset/audios_train/audio_722.wav\n",
      "/kaggle/input/shl-hiring-tests/dataset/audios_train/audio_674.wav\n",
      "/kaggle/input/shl-hiring-tests/dataset/audios_train/audio_1104.wav\n",
      "/kaggle/input/shl-hiring-tests/dataset/audios_train/audio_1134.wav\n",
      "/kaggle/input/shl-hiring-tests/dataset/audios_train/audio_1043.wav\n",
      "/kaggle/input/shl-hiring-tests/dataset/audios_train/audio_609.wav\n",
      "/kaggle/input/shl-hiring-tests/dataset/audios_train/audio_1329.wav\n",
      "/kaggle/input/shl-hiring-tests/dataset/audios_train/audio_1153.wav\n",
      "/kaggle/input/shl-hiring-tests/dataset/audios_train/audio_23.wav\n",
      "/kaggle/input/shl-hiring-tests/dataset/audios_train/audio_542.wav\n",
      "/kaggle/input/shl-hiring-tests/dataset/audios_train/audio_592.wav\n",
      "/kaggle/input/shl-hiring-tests/dataset/audios_train/audio_954.wav\n",
      "/kaggle/input/shl-hiring-tests/dataset/audios_train/audio_916.wav\n",
      "/kaggle/input/shl-hiring-tests/dataset/audios_train/audio_244.wav\n",
      "/kaggle/input/shl-hiring-tests/dataset/audios_train/audio_387.wav\n",
      "/kaggle/input/shl-hiring-tests/dataset/audios_train/audio_313.wav\n",
      "/kaggle/input/shl-hiring-tests/dataset/audios_train/audio_1252.wav\n",
      "/kaggle/input/shl-hiring-tests/dataset/audios_train/audio_194.wav\n",
      "/kaggle/input/shl-hiring-tests/dataset/audios_train/audio_427.wav\n",
      "/kaggle/input/shl-hiring-tests/dataset/audios_train/audio_93.wav\n",
      "/kaggle/input/shl-hiring-tests/dataset/audios_train/audio_1162.wav\n",
      "/kaggle/input/shl-hiring-tests/dataset/audios_train/audio_142.wav\n",
      "/kaggle/input/shl-hiring-tests/dataset/audios_train/audio_708.wav\n",
      "/kaggle/input/shl-hiring-tests/dataset/audios_train/audio_492.wav\n",
      "/kaggle/input/shl-hiring-tests/dataset/audios_train/audio_934.wav\n",
      "/kaggle/input/shl-hiring-tests/dataset/audios_train/audio_826.wav\n",
      "/kaggle/input/shl-hiring-tests/dataset/audios_train/audio_931.wav\n",
      "/kaggle/input/shl-hiring-tests/dataset/audios_train/audio_255.wav\n",
      "/kaggle/input/shl-hiring-tests/dataset/audios_train/audio_654.wav\n",
      "/kaggle/input/shl-hiring-tests/dataset/audios_train/audio_703.wav\n",
      "/kaggle/input/shl-hiring-tests/dataset/audios_train/audio_657.wav\n",
      "/kaggle/input/shl-hiring-tests/dataset/audios_train/audio_5.wav\n",
      "/kaggle/input/shl-hiring-tests/dataset/audios_train/audio_185.wav\n",
      "/kaggle/input/shl-hiring-tests/dataset/audios_train/audio_1175.wav\n",
      "/kaggle/input/shl-hiring-tests/dataset/audios_train/audio_1120.wav\n",
      "/kaggle/input/shl-hiring-tests/dataset/audios_train/audio_1128.wav\n",
      "/kaggle/input/shl-hiring-tests/dataset/audios_train/audio_1066.wav\n",
      "/kaggle/input/shl-hiring-tests/dataset/audios_train/audio_80.wav\n",
      "/kaggle/input/shl-hiring-tests/dataset/audios_train/audio_668.wav\n",
      "/kaggle/input/shl-hiring-tests/dataset/audios_train/audio_8.wav\n",
      "/kaggle/input/shl-hiring-tests/dataset/audios_train/audio_763.wav\n",
      "/kaggle/input/shl-hiring-tests/dataset/audios_train/audio_85.wav\n",
      "/kaggle/input/shl-hiring-tests/dataset/audios_train/audio_1318.wav\n",
      "/kaggle/input/shl-hiring-tests/dataset/audios_train/audio_303.wav\n",
      "/kaggle/input/shl-hiring-tests/dataset/audios_train/audio_727.wav\n",
      "/kaggle/input/shl-hiring-tests/dataset/audios_train/audio_1057.wav\n",
      "/kaggle/input/shl-hiring-tests/dataset/audios_train/audio_469.wav\n",
      "/kaggle/input/shl-hiring-tests/dataset/audios_train/audio_965.wav\n",
      "/kaggle/input/shl-hiring-tests/dataset/audios_train/audio_202.wav\n",
      "/kaggle/input/shl-hiring-tests/dataset/audios_train/audio_127.wav\n",
      "/kaggle/input/shl-hiring-tests/dataset/audios_train/audio_677.wav\n",
      "/kaggle/input/shl-hiring-tests/dataset/audios_train/audio_788.wav\n",
      "/kaggle/input/shl-hiring-tests/dataset/audios_train/audio_904.wav\n",
      "/kaggle/input/shl-hiring-tests/dataset/audios_train/audio_695.wav\n",
      "/kaggle/input/shl-hiring-tests/dataset/audios_train/audio_463.wav\n",
      "/kaggle/input/shl-hiring-tests/dataset/audios_train/audio_1075.wav\n",
      "/kaggle/input/shl-hiring-tests/dataset/audios_train/audio_130.wav\n",
      "/kaggle/input/shl-hiring-tests/dataset/audios_train/audio_273.wav\n",
      "/kaggle/input/shl-hiring-tests/dataset/audios_train/audio_489.wav\n",
      "/kaggle/input/shl-hiring-tests/dataset/audios_train/audio_293.wav\n",
      "/kaggle/input/shl-hiring-tests/dataset/audios_train/audio_1030.wav\n",
      "/kaggle/input/shl-hiring-tests/dataset/audios_train/audio_970.wav\n",
      "/kaggle/input/shl-hiring-tests/dataset/audios_train/audio_239.wav\n",
      "/kaggle/input/shl-hiring-tests/dataset/audios_train/audio_252.wav\n",
      "/kaggle/input/shl-hiring-tests/dataset/audios_train/audio_311.wav\n",
      "/kaggle/input/shl-hiring-tests/dataset/audios_train/audio_240.wav\n",
      "/kaggle/input/shl-hiring-tests/dataset/audios_train/audio_288.wav\n",
      "/kaggle/input/shl-hiring-tests/dataset/audios_train/audio_1226.wav\n",
      "/kaggle/input/shl-hiring-tests/dataset/audios_train/audio_146.wav\n",
      "/kaggle/input/shl-hiring-tests/dataset/audios_train/audio_643.wav\n",
      "/kaggle/input/shl-hiring-tests/dataset/audios_train/audio_675.wav\n",
      "/kaggle/input/shl-hiring-tests/dataset/audios_train/audio_731.wav\n",
      "/kaggle/input/shl-hiring-tests/dataset/audios_train/audio_1191.wav\n",
      "/kaggle/input/shl-hiring-tests/dataset/audios_train/audio_52.wav\n",
      "/kaggle/input/shl-hiring-tests/dataset/audios_train/audio_504.wav\n",
      "/kaggle/input/shl-hiring-tests/dataset/audios_train/audio_1112.wav\n",
      "/kaggle/input/shl-hiring-tests/dataset/audios_train/audio_875.wav\n",
      "/kaggle/input/shl-hiring-tests/dataset/audios_train/audio_460.wav\n",
      "/kaggle/input/shl-hiring-tests/dataset/audios_train/audio_1111.wav\n",
      "/kaggle/input/shl-hiring-tests/dataset/audios_train/audio_736.wav\n",
      "/kaggle/input/shl-hiring-tests/dataset/audios_train/audio_1333.wav\n",
      "/kaggle/input/shl-hiring-tests/dataset/audios_train/audio_365.wav\n",
      "/kaggle/input/shl-hiring-tests/dataset/audios_train/audio_937.wav\n",
      "/kaggle/input/shl-hiring-tests/dataset/audios_train/audio_332.wav\n",
      "/kaggle/input/shl-hiring-tests/dataset/audios_train/audio_1335.wav\n",
      "/kaggle/input/shl-hiring-tests/dataset/audios_train/audio_681.wav\n",
      "/kaggle/input/shl-hiring-tests/dataset/audios_train/audio_808.wav\n",
      "/kaggle/input/shl-hiring-tests/dataset/audios_train/audio_766.wav\n",
      "/kaggle/input/shl-hiring-tests/dataset/audios_train/audio_700.wav\n",
      "/kaggle/input/shl-hiring-tests/dataset/audios_train/audio_1247.wav\n",
      "/kaggle/input/shl-hiring-tests/dataset/audios_train/audio_686.wav\n",
      "/kaggle/input/shl-hiring-tests/dataset/audios_train/audio_1313.wav\n",
      "/kaggle/input/shl-hiring-tests/dataset/audios_train/audio_867.wav\n",
      "/kaggle/input/shl-hiring-tests/dataset/audios_train/audio_939.wav\n",
      "/kaggle/input/shl-hiring-tests/dataset/audios_train/audio_917.wav\n",
      "/kaggle/input/shl-hiring-tests/dataset/audios_train/audio_620.wav\n",
      "/kaggle/input/shl-hiring-tests/dataset/audios_train/audio_1099.wav\n",
      "/kaggle/input/shl-hiring-tests/dataset/audios_train/audio_339.wav\n",
      "/kaggle/input/shl-hiring-tests/dataset/audios_train/audio_1147.wav\n",
      "/kaggle/input/shl-hiring-tests/dataset/audios_train/audio_921.wav\n",
      "/kaggle/input/shl-hiring-tests/dataset/audios_train/audio_484.wav\n",
      "/kaggle/input/shl-hiring-tests/dataset/audios_train/audio_745.wav\n",
      "/kaggle/input/shl-hiring-tests/dataset/audios_train/audio_1274.wav\n",
      "/kaggle/input/shl-hiring-tests/dataset/audios_train/audio_1326.wav\n",
      "/kaggle/input/shl-hiring-tests/dataset/audios_train/audio_527.wav\n",
      "/kaggle/input/shl-hiring-tests/dataset/audios_train/audio_948.wav\n",
      "/kaggle/input/shl-hiring-tests/dataset/audios_train/audio_870.wav\n",
      "/kaggle/input/shl-hiring-tests/dataset/audios_train/audio_362.wav\n",
      "/kaggle/input/shl-hiring-tests/dataset/audios_train/audio_873.wav\n",
      "/kaggle/input/shl-hiring-tests/dataset/audios_train/audio_482.wav\n",
      "/kaggle/input/shl-hiring-tests/dataset/audios_train/audio_1307.wav\n",
      "/kaggle/input/shl-hiring-tests/dataset/audios_train/audio_680.wav\n",
      "/kaggle/input/shl-hiring-tests/dataset/audios_train/audio_140.wav\n",
      "/kaggle/input/shl-hiring-tests/dataset/audios_train/audio_1196.wav\n",
      "/kaggle/input/shl-hiring-tests/dataset/audios_train/audio_582.wav\n",
      "/kaggle/input/shl-hiring-tests/dataset/audios_train/audio_17.wav\n",
      "/kaggle/input/shl-hiring-tests/dataset/audios_train/audio_533.wav\n",
      "/kaggle/input/shl-hiring-tests/dataset/audios_train/audio_154.wav\n",
      "/kaggle/input/shl-hiring-tests/dataset/audios_train/audio_963.wav\n",
      "/kaggle/input/shl-hiring-tests/dataset/audios_train/audio_926.wav\n",
      "/kaggle/input/shl-hiring-tests/dataset/audios_train/audio_1264.wav\n",
      "/kaggle/input/shl-hiring-tests/dataset/audios_train/audio_1102.wav\n",
      "/kaggle/input/shl-hiring-tests/dataset/audios_train/audio_630.wav\n",
      "/kaggle/input/shl-hiring-tests/dataset/audios_train/audio_730.wav\n",
      "/kaggle/input/shl-hiring-tests/dataset/audios_train/audio_317.wav\n",
      "/kaggle/input/shl-hiring-tests/dataset/audios_train/audio_440.wav\n",
      "/kaggle/input/shl-hiring-tests/dataset/audios_train/audio_611.wav\n",
      "/kaggle/input/shl-hiring-tests/dataset/audios_train/audio_69.wav\n",
      "/kaggle/input/shl-hiring-tests/dataset/audios_train/audio_64.wav\n",
      "/kaggle/input/shl-hiring-tests/dataset/audios_train/audio_978.wav\n",
      "/kaggle/input/shl-hiring-tests/dataset/audios_train/audio_494.wav\n",
      "/kaggle/input/shl-hiring-tests/dataset/audios_train/audio_131.wav\n",
      "/kaggle/input/shl-hiring-tests/dataset/audios_train/audio_336.wav\n",
      "/kaggle/input/shl-hiring-tests/dataset/audios_train/audio_105.wav\n",
      "/kaggle/input/shl-hiring-tests/dataset/audios_train/audio_395.wav\n",
      "/kaggle/input/shl-hiring-tests/dataset/audios_train/audio_324.wav\n",
      "/kaggle/input/shl-hiring-tests/dataset/audios_train/audio_358.wav\n",
      "/kaggle/input/shl-hiring-tests/dataset/audios_train/audio_707.wav\n",
      "/kaggle/input/shl-hiring-tests/dataset/audios_train/audio_15.wav\n",
      "/kaggle/input/shl-hiring-tests/dataset/audios_train/audio_63.wav\n",
      "/kaggle/input/shl-hiring-tests/dataset/audios_train/audio_744.wav\n",
      "/kaggle/input/shl-hiring-tests/dataset/audios_train/audio_1038.wav\n",
      "/kaggle/input/shl-hiring-tests/dataset/audios_train/audio_167.wav\n",
      "/kaggle/input/shl-hiring-tests/dataset/audios_train/audio_956.wav\n",
      "/kaggle/input/shl-hiring-tests/dataset/audios_train/audio_716.wav\n",
      "/kaggle/input/shl-hiring-tests/dataset/audios_train/audio_334.wav\n",
      "/kaggle/input/shl-hiring-tests/dataset/audios_train/audio_868.wav\n",
      "/kaggle/input/shl-hiring-tests/dataset/audios_train/audio_854.wav\n",
      "/kaggle/input/shl-hiring-tests/dataset/audios_train/audio_245.wav\n",
      "/kaggle/input/shl-hiring-tests/dataset/audios_train/audio_903.wav\n",
      "/kaggle/input/shl-hiring-tests/dataset/audios_train/audio_834.wav\n",
      "/kaggle/input/shl-hiring-tests/dataset/audios_train/audio_1110.wav\n",
      "/kaggle/input/shl-hiring-tests/dataset/audios_train/audio_432.wav\n",
      "/kaggle/input/shl-hiring-tests/dataset/audios_train/audio_236.wav\n",
      "/kaggle/input/shl-hiring-tests/dataset/audios_train/audio_1208.wav\n",
      "/kaggle/input/shl-hiring-tests/dataset/audios_train/audio_200.wav\n",
      "/kaggle/input/shl-hiring-tests/dataset/audios_train/audio_1078.wav\n",
      "/kaggle/input/shl-hiring-tests/dataset/audios_train/audio_1200.wav\n",
      "/kaggle/input/shl-hiring-tests/dataset/audios_train/audio_353.wav\n",
      "/kaggle/input/shl-hiring-tests/dataset/audios_train/audio_947.wav\n",
      "/kaggle/input/shl-hiring-tests/dataset/audios_train/audio_212.wav\n",
      "/kaggle/input/shl-hiring-tests/dataset/audios_train/audio_168.wav\n",
      "/kaggle/input/shl-hiring-tests/dataset/audios_train/audio_352.wav\n",
      "/kaggle/input/shl-hiring-tests/dataset/audios_train/audio_445.wav\n",
      "/kaggle/input/shl-hiring-tests/dataset/audios_train/audio_419.wav\n",
      "/kaggle/input/shl-hiring-tests/dataset/audios_train/audio_1332.wav\n",
      "/kaggle/input/shl-hiring-tests/dataset/audios_train/audio_701.wav\n",
      "/kaggle/input/shl-hiring-tests/dataset/audios_train/audio_117.wav\n",
      "/kaggle/input/shl-hiring-tests/dataset/audios_train/audio_1059.wav\n",
      "/kaggle/input/shl-hiring-tests/dataset/audios_train/audio_790.wav\n",
      "/kaggle/input/shl-hiring-tests/dataset/audios_train/audio_390.wav\n",
      "/kaggle/input/shl-hiring-tests/dataset/audios_train/audio_586.wav\n",
      "/kaggle/input/shl-hiring-tests/dataset/audios_train/audio_226.wav\n",
      "/kaggle/input/shl-hiring-tests/dataset/audios_train/audio_699.wav\n",
      "/kaggle/input/shl-hiring-tests/dataset/audios_train/audio_363.wav\n",
      "/kaggle/input/shl-hiring-tests/dataset/audios_train/audio_988.wav\n",
      "/kaggle/input/shl-hiring-tests/dataset/audios_train/audio_485.wav\n",
      "/kaggle/input/shl-hiring-tests/dataset/audios_train/audio_241.wav\n",
      "/kaggle/input/shl-hiring-tests/dataset/audios_train/audio_481.wav\n",
      "/kaggle/input/shl-hiring-tests/dataset/audios_train/audio_652.wav\n",
      "/kaggle/input/shl-hiring-tests/dataset/audios_train/audio_424.wav\n",
      "/kaggle/input/shl-hiring-tests/dataset/audios_train/audio_483.wav\n",
      "/kaggle/input/shl-hiring-tests/dataset/audios_train/audio_1017.wav\n",
      "/kaggle/input/shl-hiring-tests/dataset/audios_train/audio_890.wav\n",
      "/kaggle/input/shl-hiring-tests/dataset/audios_train/audio_1065.wav\n",
      "/kaggle/input/shl-hiring-tests/dataset/audios_train/audio_787.wav\n",
      "/kaggle/input/shl-hiring-tests/dataset/audios_train/audio_627.wav\n",
      "/kaggle/input/shl-hiring-tests/dataset/audios_train/audio_1290.wav\n",
      "/kaggle/input/shl-hiring-tests/dataset/audios_train/audio_758.wav\n",
      "/kaggle/input/shl-hiring-tests/dataset/audios_train/audio_1314.wav\n",
      "/kaggle/input/shl-hiring-tests/dataset/audios_train/audio_272.wav\n",
      "/kaggle/input/shl-hiring-tests/dataset/audios_train/audio_687.wav\n",
      "/kaggle/input/shl-hiring-tests/dataset/audios_train/audio_809.wav\n",
      "/kaggle/input/shl-hiring-tests/dataset/audios_train/audio_312.wav\n",
      "/kaggle/input/shl-hiring-tests/dataset/audios_train/audio_902.wav\n",
      "/kaggle/input/shl-hiring-tests/dataset/audios_train/audio_1296.wav\n",
      "/kaggle/input/shl-hiring-tests/dataset/audios_train/audio_147.wav\n",
      "/kaggle/input/shl-hiring-tests/dataset/audios_train/audio_783.wav\n",
      "/kaggle/input/shl-hiring-tests/dataset/audios_train/audio_144.wav\n",
      "/kaggle/input/shl-hiring-tests/dataset/audios_train/audio_373.wav\n",
      "/kaggle/input/shl-hiring-tests/dataset/audios_train/audio_887.wav\n",
      "/kaggle/input/shl-hiring-tests/dataset/audios_train/audio_443.wav\n",
      "/kaggle/input/shl-hiring-tests/dataset/audios_train/audio_350.wav\n",
      "/kaggle/input/shl-hiring-tests/dataset/audios_train/audio_503.wav\n",
      "/kaggle/input/shl-hiring-tests/dataset/audios_train/audio_62.wav\n",
      "/kaggle/input/shl-hiring-tests/dataset/audios_train/audio_402.wav\n",
      "/kaggle/input/shl-hiring-tests/dataset/audios_train/audio_1031.wav\n",
      "/kaggle/input/shl-hiring-tests/dataset/audios_train/audio_116.wav\n",
      "/kaggle/input/shl-hiring-tests/dataset/audios_train/audio_693.wav\n",
      "/kaggle/input/shl-hiring-tests/dataset/audios_train/audio_477.wav\n",
      "/kaggle/input/shl-hiring-tests/dataset/audios_train/audio_413.wav\n",
      "/kaggle/input/shl-hiring-tests/dataset/audios_train/audio_1025.wav\n",
      "/kaggle/input/shl-hiring-tests/dataset/audios_train/audio_123.wav\n",
      "/kaggle/input/shl-hiring-tests/dataset/audios_train/audio_133.wav\n",
      "/kaggle/input/shl-hiring-tests/dataset/audios_train/audio_647.wav\n",
      "/kaggle/input/shl-hiring-tests/dataset/audios_train/audio_1223.wav\n",
      "/kaggle/input/shl-hiring-tests/dataset/audios_train/audio_980.wav\n",
      "/kaggle/input/shl-hiring-tests/dataset/audios_train/audio_755.wav\n",
      "/kaggle/input/shl-hiring-tests/dataset/audios_train/audio_869.wav\n",
      "/kaggle/input/shl-hiring-tests/dataset/audios_train/audio_1148.wav\n",
      "/kaggle/input/shl-hiring-tests/dataset/audios_train/audio_685.wav\n",
      "/kaggle/input/shl-hiring-tests/dataset/audios_train/audio_678.wav\n",
      "/kaggle/input/shl-hiring-tests/dataset/audios_train/audio_53.wav\n",
      "/kaggle/input/shl-hiring-tests/dataset/audios_train/audio_1184.wav\n",
      "/kaggle/input/shl-hiring-tests/dataset/audios_train/audio_552.wav\n",
      "/kaggle/input/shl-hiring-tests/dataset/audios_train/audio_1216.wav\n",
      "/kaggle/input/shl-hiring-tests/dataset/audios_train/audio_1185.wav\n",
      "/kaggle/input/shl-hiring-tests/dataset/audios_train/audio_918.wav\n",
      "/kaggle/input/shl-hiring-tests/dataset/audios_train/audio_250.wav\n",
      "/kaggle/input/shl-hiring-tests/dataset/audios_train/audio_721.wav\n",
      "/kaggle/input/shl-hiring-tests/dataset/audios_train/audio_624.wav\n",
      "/kaggle/input/shl-hiring-tests/dataset/audios_train/audio_43.wav\n",
      "/kaggle/input/shl-hiring-tests/dataset/audios_train/audio_889.wav\n",
      "/kaggle/input/shl-hiring-tests/dataset/audios_train/audio_184.wav\n",
      "/kaggle/input/shl-hiring-tests/dataset/audios_train/audio_842.wav\n",
      "/kaggle/input/shl-hiring-tests/dataset/audios_train/audio_1125.wav\n",
      "/kaggle/input/shl-hiring-tests/dataset/audios_train/audio_9.wav\n",
      "/kaggle/input/shl-hiring-tests/dataset/audios_train/audio_455.wav\n",
      "/kaggle/input/shl-hiring-tests/dataset/audios_train/audio_1160.wav\n",
      "/kaggle/input/shl-hiring-tests/dataset/audios_train/audio_913.wav\n",
      "/kaggle/input/shl-hiring-tests/dataset/audios_train/audio_493.wav\n",
      "/kaggle/input/shl-hiring-tests/dataset/audios_train/audio_704.wav\n",
      "/kaggle/input/shl-hiring-tests/dataset/audios_train/audio_548.wav\n",
      "/kaggle/input/shl-hiring-tests/dataset/audios_train/audio_1230.wav\n",
      "/kaggle/input/shl-hiring-tests/dataset/audios_train/audio_961.wav\n",
      "/kaggle/input/shl-hiring-tests/dataset/audios_train/audio_832.wav\n",
      "/kaggle/input/shl-hiring-tests/dataset/audios_train/audio_33.wav\n",
      "/kaggle/input/shl-hiring-tests/dataset/audios_train/audio_896.wav\n",
      "/kaggle/input/shl-hiring-tests/dataset/audios_train/audio_827.wav\n",
      "/kaggle/input/shl-hiring-tests/dataset/audios_train/audio_748.wav\n",
      "/kaggle/input/shl-hiring-tests/dataset/audios_train/audio_658.wav\n",
      "/kaggle/input/shl-hiring-tests/dataset/audios_train/audio_471.wav\n",
      "/kaggle/input/shl-hiring-tests/dataset/audios_train/audio_1117.wav\n",
      "/kaggle/input/shl-hiring-tests/dataset/audios_train/audio_270.wav\n",
      "/kaggle/input/shl-hiring-tests/dataset/audios_train/audio_301.wav\n",
      "/kaggle/input/shl-hiring-tests/dataset/audios_train/audio_576.wav\n",
      "/kaggle/input/shl-hiring-tests/dataset/audios_train/audio_649.wav\n",
      "/kaggle/input/shl-hiring-tests/dataset/audios_train/audio_1261.wav\n",
      "/kaggle/input/shl-hiring-tests/dataset/audios_train/audio_640.wav\n",
      "/kaggle/input/shl-hiring-tests/dataset/audios_train/audio_636.wav\n",
      "/kaggle/input/shl-hiring-tests/dataset/audios_train/audio_1272.wav\n",
      "/kaggle/input/shl-hiring-tests/dataset/audios_train/audio_1135.wav\n",
      "/kaggle/input/shl-hiring-tests/dataset/audios_train/audio_74.wav\n",
      "/kaggle/input/shl-hiring-tests/dataset/audios_train/audio_983.wav\n",
      "/kaggle/input/shl-hiring-tests/dataset/audios_train/audio_993.wav\n",
      "/kaggle/input/shl-hiring-tests/dataset/audios_train/audio_480.wav\n",
      "/kaggle/input/shl-hiring-tests/dataset/audios_train/audio_1298.wav\n",
      "/kaggle/input/shl-hiring-tests/dataset/audios_train/audio_876.wav\n",
      "/kaggle/input/shl-hiring-tests/dataset/audios_train/audio_794.wav\n",
      "/kaggle/input/shl-hiring-tests/dataset/audios_train/audio_163.wav\n",
      "/kaggle/input/shl-hiring-tests/dataset/audios_train/audio_450.wav\n",
      "/kaggle/input/shl-hiring-tests/dataset/audios_train/audio_514.wav\n",
      "/kaggle/input/shl-hiring-tests/dataset/audios_train/audio_696.wav\n",
      "/kaggle/input/shl-hiring-tests/dataset/audios_train/audio_389.wav\n",
      "/kaggle/input/shl-hiring-tests/dataset/audios_train/audio_1008.wav\n",
      "/kaggle/input/shl-hiring-tests/dataset/audios_train/audio_1187.wav\n",
      "/kaggle/input/shl-hiring-tests/dataset/audios_train/audio_724.wav\n",
      "/kaggle/input/shl-hiring-tests/dataset/audios_train/audio_490.wav\n",
      "/kaggle/input/shl-hiring-tests/dataset/audios_train/audio_259.wav\n"
     ]
    }
   ],
   "source": [
    "# This Python 3 environment comes with many helpful analytics libraries installed\n",
    "# It is defined by the kaggle/python Docker image: https://github.com/kaggle/docker-python\n",
    "# For example, here's several helpful packages to load\n",
    "\n",
    "import numpy as np # linear algebra\n",
    "import pandas as pd # data processing, CSV file I/O (e.g. pd.read_csv)\n",
    "\n",
    "# Input data files are available in the read-only \"../input/\" directory\n",
    "# For example, running this (by clicking run or pressing Shift+Enter) will list all files under the input directory\n",
    "\n",
    "import os\n",
    "for dirname, _, filenames in os.walk('/kaggle/input'):\n",
    "    for filename in filenames:\n",
    "        print(os.path.join(dirname, filename))\n",
    "\n",
    "# You can write up to 20GB to the current directory (/kaggle/working/) that gets preserved as output when you create a version using \"Save & Run All\" \n",
    "# You can also write temporary files to /kaggle/temp/, but they won't be saved outside of the current session"
   ]
  },
  {
   "cell_type": "markdown",
   "metadata": {},
   "source": [
    "# SHL Assessment\n",
    "\n",
    "**I have implemented 2 strategies that I am presenting in this notebook:**\n",
    "- Extracting audio embeddings and ML models for score prediction (Pearson Correlation : 0.772)\n",
    "- Extracting transcription and applied Bert model (Pearson Correlation : 0.739)"
   ]
  },
  {
   "attachments": {
    "314708d2-4744-4d33-bb29-9f09f3e827ee.png": {
     "image/png": "[encoded data removed]"
    },
    "cab47654-645b-432e-9b0c-bca17aeac910.png": {
     "image/png": "[encoded data removed]"
    }
   },
   "cell_type": "markdown",
   "metadata": {},
   "source": [
    "# 1st Approach <br> \n",
    "\n",
    "A pipeline for grammar score prediction from spoken audio using Wav2Vec2 embeddings and ML models. Here's a step-by-step breakdown of the process shown in the diagram:\n",
    "\n",
    "![Audi0_embedding.drawio.png](attachment:cab47654-645b-432e-9b0c-bca17aeac910.png) <br> \n",
    "\n",
    "1) **Dataset** : Contains metadata such as filenames and corresponding grammar score labels.\n",
    "2) **Audio Files** : Actual speech recordings (.wav) corresponding to each entry in the dataset.\n",
    "3) **Wav2Vec2** : A pretrained self-supervised audio model that transforms raw waveforms into dense feature embeddings. These embeddings capture semantic and acoustic characteristics of the audio. <br> \n",
    "**Output**: A fixed-size feature vector per audio sample.\n",
    "4) **Standardization** : Feature scaling step to ensure all features have zero mean and unit variance.\n",
    "5) **Trained SVR (Support Vector Regressor)** : The standardized Wav2Vec2 embeddings are fed into varoius ML models.\n",
    "6) **Results** : Model performance is evaluated"
   ]
  },
  {
   "cell_type": "code",
   "execution_count": 34,
   "metadata": {
    "_kg_hide-output": true,
    "execution": {
     "iopub.execute_input": "2025-04-06T18:01:24.805071Z",
     "iopub.status.busy": "2025-04-06T18:01:24.804750Z",
     "iopub.status.idle": "2025-04-06T18:01:28.619589Z",
     "shell.execute_reply": "2025-04-06T18:01:28.618392Z",
     "shell.execute_reply.started": "2025-04-06T18:01:24.805040Z"
    },
    "trusted": true
   },
   "outputs": [
    {
     "name": "stdout",
     "output_type": "stream",
     "text": [
      "Requirement already satisfied: pandas in /usr/local/lib/python3.10/dist-packages (2.2.3)\n",
      "Requirement already satisfied: librosa in /usr/local/lib/python3.10/dist-packages (0.10.2.post1)\n",
      "Requirement already satisfied: torchaudio in /usr/local/lib/python3.10/dist-packages (2.5.1+cu121)\n",
      "Requirement already satisfied: transformers in /usr/local/lib/python3.10/dist-packages (4.47.0)\n",
      "Requirement already satisfied: tqdm in /usr/local/lib/python3.10/dist-packages (4.67.1)\n",
      "Requirement already satisfied: numpy>=1.22.4 in /usr/local/lib/python3.10/dist-packages (from pandas) (1.26.4)\n",
      "Requirement already satisfied: python-dateutil>=2.8.2 in /usr/local/lib/python3.10/dist-packages (from pandas) (2.9.0.post0)\n",
      "Requirement already satisfied: pytz>=2020.1 in /usr/local/lib/python3.10/dist-packages (from pandas) (2025.1)\n",
      "Requirement already satisfied: tzdata>=2022.7 in /usr/local/lib/python3.10/dist-packages (from pandas) (2025.1)\n",
      "Requirement already satisfied: audioread>=2.1.9 in /usr/local/lib/python3.10/dist-packages (from librosa) (3.0.1)\n",
      "Requirement already satisfied: scipy>=1.2.0 in /usr/local/lib/python3.10/dist-packages (from librosa) (1.13.1)\n",
      "Requirement already satisfied: scikit-learn>=0.20.0 in /usr/local/lib/python3.10/dist-packages (from librosa) (1.2.2)\n",
      "Requirement already satisfied: joblib>=0.14 in /usr/local/lib/python3.10/dist-packages (from librosa) (1.4.2)\n",
      "Requirement already satisfied: decorator>=4.3.0 in /usr/local/lib/python3.10/dist-packages (from librosa) (4.4.2)\n",
      "Requirement already satisfied: numba>=0.51.0 in /usr/local/lib/python3.10/dist-packages (from librosa) (0.60.0)\n",
      "Requirement already satisfied: soundfile>=0.12.1 in /usr/local/lib/python3.10/dist-packages (from librosa) (0.12.1)\n",
      "Requirement already satisfied: pooch>=1.1 in /usr/local/lib/python3.10/dist-packages (from librosa) (1.8.2)\n",
      "Requirement already satisfied: soxr>=0.3.2 in /usr/local/lib/python3.10/dist-packages (from librosa) (0.5.0.post1)\n",
      "Requirement already satisfied: typing-extensions>=4.1.1 in /usr/local/lib/python3.10/dist-packages (from librosa) (4.12.2)\n",
      "Requirement already satisfied: lazy-loader>=0.1 in /usr/local/lib/python3.10/dist-packages (from librosa) (0.4)\n",
      "Requirement already satisfied: msgpack>=1.0 in /usr/local/lib/python3.10/dist-packages (from librosa) (1.1.0)\n",
      "Requirement already satisfied: torch==2.5.1 in /usr/local/lib/python3.10/dist-packages (from torchaudio) (2.5.1+cu121)\n",
      "Requirement already satisfied: filelock in /usr/local/lib/python3.10/dist-packages (from torch==2.5.1->torchaudio) (3.17.0)\n",
      "Requirement already satisfied: networkx in /usr/local/lib/python3.10/dist-packages (from torch==2.5.1->torchaudio) (3.4.2)\n",
      "Requirement already satisfied: jinja2 in /usr/local/lib/python3.10/dist-packages (from torch==2.5.1->torchaudio) (3.1.4)\n",
      "Requirement already satisfied: fsspec in /usr/local/lib/python3.10/dist-packages (from torch==2.5.1->torchaudio) (2024.12.0)\n",
      "Requirement already satisfied: sympy==1.13.1 in /usr/local/lib/python3.10/dist-packages (from torch==2.5.1->torchaudio) (1.13.1)\n",
      "Requirement already satisfied: mpmath<1.4,>=1.1.0 in /usr/local/lib/python3.10/dist-packages (from sympy==1.13.1->torch==2.5.1->torchaudio) (1.3.0)\n",
      "Requirement already satisfied: huggingface-hub<1.0,>=0.24.0 in /usr/local/lib/python3.10/dist-packages (from transformers) (0.29.0)\n",
      "Requirement already satisfied: packaging>=20.0 in /usr/local/lib/python3.10/dist-packages (from transformers) (24.2)\n",
      "Requirement already satisfied: pyyaml>=5.1 in /usr/local/lib/python3.10/dist-packages (from transformers) (6.0.2)\n",
      "Requirement already satisfied: regex!=2019.12.17 in /usr/local/lib/python3.10/dist-packages (from transformers) (2024.11.6)\n",
      "Requirement already satisfied: requests in /usr/local/lib/python3.10/dist-packages (from transformers) (2.32.3)\n",
      "Requirement already satisfied: tokenizers<0.22,>=0.21 in /usr/local/lib/python3.10/dist-packages (from transformers) (0.21.0)\n",
      "Requirement already satisfied: safetensors>=0.4.1 in /usr/local/lib/python3.10/dist-packages (from transformers) (0.4.5)\n",
      "Requirement already satisfied: llvmlite<0.44,>=0.43.0dev0 in /usr/local/lib/python3.10/dist-packages (from numba>=0.51.0->librosa) (0.43.0)\n",
      "Requirement already satisfied: mkl_fft in /usr/local/lib/python3.10/dist-packages (from numpy>=1.22.4->pandas) (1.3.8)\n",
      "Requirement already satisfied: mkl_random in /usr/local/lib/python3.10/dist-packages (from numpy>=1.22.4->pandas) (1.2.4)\n",
      "Requirement already satisfied: mkl_umath in /usr/local/lib/python3.10/dist-packages (from numpy>=1.22.4->pandas) (0.1.1)\n",
      "Requirement already satisfied: mkl in /usr/local/lib/python3.10/dist-packages (from numpy>=1.22.4->pandas) (2025.0.1)\n",
      "Requirement already satisfied: tbb4py in /usr/local/lib/python3.10/dist-packages (from numpy>=1.22.4->pandas) (2022.0.0)\n",
      "Requirement already satisfied: mkl-service in /usr/local/lib/python3.10/dist-packages (from numpy>=1.22.4->pandas) (2.4.1)\n",
      "Requirement already satisfied: platformdirs>=2.5.0 in /usr/local/lib/python3.10/dist-packages (from pooch>=1.1->librosa) (4.3.6)\n",
      "Requirement already satisfied: six>=1.5 in /usr/local/lib/python3.10/dist-packages (from python-dateutil>=2.8.2->pandas) (1.17.0)\n",
      "Requirement already satisfied: charset-normalizer<4,>=2 in /usr/local/lib/python3.10/dist-packages (from requests->transformers) (3.4.1)\n",
      "Requirement already satisfied: idna<4,>=2.5 in /usr/local/lib/python3.10/dist-packages (from requests->transformers) (3.10)\n",
      "Requirement already satisfied: urllib3<3,>=1.21.1 in /usr/local/lib/python3.10/dist-packages (from requests->transformers) (2.3.0)\n",
      "Requirement already satisfied: certifi>=2017.4.17 in /usr/local/lib/python3.10/dist-packages (from requests->transformers) (2025.1.31)\n",
      "Requirement already satisfied: threadpoolctl>=2.0.0 in /usr/local/lib/python3.10/dist-packages (from scikit-learn>=0.20.0->librosa) (3.5.0)\n",
      "Requirement already satisfied: cffi>=1.0 in /usr/local/lib/python3.10/dist-packages (from soundfile>=0.12.1->librosa) (1.17.1)\n",
      "Requirement already satisfied: pycparser in /usr/local/lib/python3.10/dist-packages (from cffi>=1.0->soundfile>=0.12.1->librosa) (2.22)\n",
      "Requirement already satisfied: MarkupSafe>=2.0 in /usr/local/lib/python3.10/dist-packages (from jinja2->torch==2.5.1->torchaudio) (3.0.2)\n",
      "Requirement already satisfied: intel-openmp>=2024 in /usr/local/lib/python3.10/dist-packages (from mkl->numpy>=1.22.4->pandas) (2024.2.0)\n",
      "Requirement already satisfied: tbb==2022.* in /usr/local/lib/python3.10/dist-packages (from mkl->numpy>=1.22.4->pandas) (2022.0.0)\n",
      "Requirement already satisfied: tcmlib==1.* in /usr/local/lib/python3.10/dist-packages (from tbb==2022.*->mkl->numpy>=1.22.4->pandas) (1.2.0)\n",
      "Requirement already satisfied: intel-cmplr-lib-rt in /usr/local/lib/python3.10/dist-packages (from mkl_umath->numpy>=1.22.4->pandas) (2024.2.0)\n",
      "Requirement already satisfied: intel-cmplr-lib-ur==2024.2.0 in /usr/local/lib/python3.10/dist-packages (from intel-openmp>=2024->mkl->numpy>=1.22.4->pandas) (2024.2.0)\n"
     ]
    }
   ],
   "source": [
    "!pip install pandas librosa torchaudio transformers tqdm"
   ]
  },
  {
   "cell_type": "code",
   "execution_count": 35,
   "metadata": {
    "execution": {
     "iopub.execute_input": "2025-04-06T18:01:28.622490Z",
     "iopub.status.busy": "2025-04-06T18:01:28.622122Z",
     "iopub.status.idle": "2025-04-06T18:01:28.639689Z",
     "shell.execute_reply": "2025-04-06T18:01:28.638486Z",
     "shell.execute_reply.started": "2025-04-06T18:01:28.622446Z"
    },
    "trusted": true
   },
   "outputs": [
    {
     "name": "stdout",
     "output_type": "stream",
     "text": [
      "Training samples: 444\n",
      "Score distribution:\n",
      "label\n",
      "1.0      1\n",
      "1.5      3\n",
      "2.0     70\n",
      "2.5     40\n",
      "3.0     87\n",
      "3.5     23\n",
      "4.0     52\n",
      "4.5     58\n",
      "5.0    110\n",
      "Name: count, dtype: int64\n",
      "Score range: 1.0 - 5.0\n"
     ]
    }
   ],
   "source": [
    "\n",
    "# Load and Explore the Dataset\n",
    "import os\n",
    "import torch\n",
    "import pandas as pd\n",
    "import torchaudio\n",
    "from tqdm import tqdm\n",
    "from transformers import Wav2Vec2Processor, Wav2Vec2Model\n",
    "\n",
    "# Load training metadata\n",
    "train_df = pd.read_csv('/kaggle/input/shl-hiring-tests/dataset/train.csv')  # Adjust filename as needed\n",
    "audio_dir = \"/kaggle/input/shl-hiring-tests/dataset/audios_train\"\n",
    "\n",
    "# Explore the training data\n",
    "print(f\"Training samples: {len(train_df)}\")\n",
    "print(f\"Score distribution:\\n{train_df['label'].value_counts().sort_index()}\")\n",
    "print(f\"Score range: {train_df['label'].min()} - {train_df['label'].max()}\")"
   ]
  },
  {
   "cell_type": "code",
   "execution_count": 36,
   "metadata": {
    "execution": {
     "iopub.execute_input": "2025-04-06T18:01:28.641353Z",
     "iopub.status.busy": "2025-04-06T18:01:28.641032Z",
     "iopub.status.idle": "2025-04-06T18:01:28.883609Z",
     "shell.execute_reply": "2025-04-06T18:01:28.882669Z",
     "shell.execute_reply.started": "2025-04-06T18:01:28.641330Z"
    },
    "trusted": true
   },
   "outputs": [
    {
     "name": "stderr",
     "output_type": "stream",
     "text": [
      "/usr/local/lib/python3.10/dist-packages/seaborn/_oldcore.py:1119: FutureWarning: use_inf_as_na option is deprecated and will be removed in a future version. Convert inf values to NaN before operating instead.\n",
      "  with pd.option_context('mode.use_inf_as_na', True):\n"
     ]
    },
    {
     "data": {
      "image/png": "[encoded data removed]",
      "text/plain": [
       "<Figure size 600x300 with 1 Axes>"
      ]
     },
     "metadata": {},
     "output_type": "display_data"
    }
   ],
   "source": [
    "import matplotlib.pyplot as plt\n",
    "import seaborn as sns\n",
    "# Visualize score distribution\n",
    "plt.figure(figsize=(6, 3))\n",
    "sns.histplot(train_df['label'], bins=20, kde=True)\n",
    "plt.title('Distribution of Grammar Scores')\n",
    "plt.xlabel('Score')\n",
    "plt.ylabel('Count')\n",
    "plt.show()"
   ]
  },
  {
   "cell_type": "code",
   "execution_count": 49,
   "metadata": {
    "execution": {
     "iopub.execute_input": "2025-04-06T18:05:32.587881Z",
     "iopub.status.busy": "2025-04-06T18:05:32.587581Z",
     "iopub.status.idle": "2025-04-06T18:05:33.321540Z",
     "shell.execute_reply": "2025-04-06T18:05:33.320058Z",
     "shell.execute_reply.started": "2025-04-06T18:05:32.587860Z"
    },
    "trusted": true
   },
   "outputs": [
    {
     "name": "stderr",
     "output_type": "stream",
     "text": [
      "/usr/local/lib/python3.10/dist-packages/transformers/configuration_utils.py:311: UserWarning: Passing `gradient_checkpointing` to a config initialization is deprecated and will be removed in v5 Transformers. Using `model.gradient_checkpointing_enable()` instead, or if you are using the `Trainer` API, pass `gradient_checkpointing=True` in your `TrainingArguments`.\n",
      "  warnings.warn(\n"
     ]
    }
   ],
   "source": [
    "from transformers import Wav2Vec2Processor, Wav2Vec2Model\n",
    "\n",
    "#Load processor and model (no tokenizer needed for Wav2Vec2)\n",
    "processor = Wav2Vec2Processor.from_pretrained(\"facebook/wav2vec2-base\")\n",
    "model = Wav2Vec2Model.from_pretrained(\"facebook/wav2vec2-base\")"
   ]
  },
  {
   "cell_type": "code",
   "execution_count": 50,
   "metadata": {
    "execution": {
     "iopub.execute_input": "2025-04-06T18:05:35.754115Z",
     "iopub.status.busy": "2025-04-06T18:05:35.753702Z",
     "iopub.status.idle": "2025-04-06T18:05:35.936183Z",
     "shell.execute_reply": "2025-04-06T18:05:35.935244Z",
     "shell.execute_reply.started": "2025-04-06T18:05:35.754080Z"
    },
    "trusted": true
   },
   "outputs": [
    {
     "data": {
      "text/plain": [
       "Wav2Vec2Model(\n",
       "  (feature_extractor): Wav2Vec2FeatureEncoder(\n",
       "    (conv_layers): ModuleList(\n",
       "      (0): Wav2Vec2GroupNormConvLayer(\n",
       "        (conv): Conv1d(1, 512, kernel_size=(10,), stride=(5,), bias=False)\n",
       "        (activation): GELUActivation()\n",
       "        (layer_norm): GroupNorm(512, 512, eps=1e-05, affine=True)\n",
       "      )\n",
       "      (1-4): 4 x Wav2Vec2NoLayerNormConvLayer(\n",
       "        (conv): Conv1d(512, 512, kernel_size=(3,), stride=(2,), bias=False)\n",
       "        (activation): GELUActivation()\n",
       "      )\n",
       "      (5-6): 2 x Wav2Vec2NoLayerNormConvLayer(\n",
       "        (conv): Conv1d(512, 512, kernel_size=(2,), stride=(2,), bias=False)\n",
       "        (activation): GELUActivation()\n",
       "      )\n",
       "    )\n",
       "  )\n",
       "  (feature_projection): Wav2Vec2FeatureProjection(\n",
       "    (layer_norm): LayerNorm((512,), eps=1e-05, elementwise_affine=True)\n",
       "    (projection): Linear(in_features=512, out_features=768, bias=True)\n",
       "    (dropout): Dropout(p=0.1, inplace=False)\n",
       "  )\n",
       "  (encoder): Wav2Vec2Encoder(\n",
       "    (pos_conv_embed): Wav2Vec2PositionalConvEmbedding(\n",
       "      (conv): ParametrizedConv1d(\n",
       "        768, 768, kernel_size=(128,), stride=(1,), padding=(64,), groups=16\n",
       "        (parametrizations): ModuleDict(\n",
       "          (weight): ParametrizationList(\n",
       "            (0): _WeightNorm()\n",
       "          )\n",
       "        )\n",
       "      )\n",
       "      (padding): Wav2Vec2SamePadLayer()\n",
       "      (activation): GELUActivation()\n",
       "    )\n",
       "    (layer_norm): LayerNorm((768,), eps=1e-05, elementwise_affine=True)\n",
       "    (dropout): Dropout(p=0.1, inplace=False)\n",
       "    (layers): ModuleList(\n",
       "      (0-11): 12 x Wav2Vec2EncoderLayer(\n",
       "        (attention): Wav2Vec2SdpaAttention(\n",
       "          (k_proj): Linear(in_features=768, out_features=768, bias=True)\n",
       "          (v_proj): Linear(in_features=768, out_features=768, bias=True)\n",
       "          (q_proj): Linear(in_features=768, out_features=768, bias=True)\n",
       "          (out_proj): Linear(in_features=768, out_features=768, bias=True)\n",
       "        )\n",
       "        (dropout): Dropout(p=0.1, inplace=False)\n",
       "        (layer_norm): LayerNorm((768,), eps=1e-05, elementwise_affine=True)\n",
       "        (feed_forward): Wav2Vec2FeedForward(\n",
       "          (intermediate_dropout): Dropout(p=0.0, inplace=False)\n",
       "          (intermediate_dense): Linear(in_features=768, out_features=3072, bias=True)\n",
       "          (intermediate_act_fn): GELUActivation()\n",
       "          (output_dense): Linear(in_features=3072, out_features=768, bias=True)\n",
       "          (output_dropout): Dropout(p=0.1, inplace=False)\n",
       "        )\n",
       "        (final_layer_norm): LayerNorm((768,), eps=1e-05, elementwise_affine=True)\n",
       "      )\n",
       "    )\n",
       "  )\n",
       ")"
      ]
     },
     "execution_count": 50,
     "metadata": {},
     "output_type": "execute_result"
    }
   ],
   "source": [
    "# Use GPU if available\n",
    "device = torch.device(\"cuda\" if torch.cuda.is_available() else \"cpu\")\n",
    "model.to(device)"
   ]
  },
  {
   "cell_type": "code",
   "execution_count": 51,
   "metadata": {
    "execution": {
     "iopub.execute_input": "2025-04-06T18:05:38.652077Z",
     "iopub.status.busy": "2025-04-06T18:05:38.651724Z",
     "iopub.status.idle": "2025-04-06T18:05:38.656856Z",
     "shell.execute_reply": "2025-04-06T18:05:38.655883Z",
     "shell.execute_reply.started": "2025-04-06T18:05:38.652044Z"
    },
    "trusted": true
   },
   "outputs": [],
   "source": [
    "#audio loading & feature extraction\n",
    "def load_audio(file_path, sample_rate=16000):\n",
    "    waveform, sr = torchaudio.load(file_path)\n",
    "    if sr != sample_rate:\n",
    "        resampler = torchaudio.transforms.Resample(sr, sample_rate)\n",
    "        waveform = resampler(waveform)\n",
    "    waveform = waveform.mean(dim=0)  # convert to mono if stereo\n",
    "    return waveform.numpy()  # return 1D numpy array"
   ]
  },
  {
   "cell_type": "code",
   "execution_count": 52,
   "metadata": {
    "execution": {
     "iopub.execute_input": "2025-04-06T18:05:40.736457Z",
     "iopub.status.busy": "2025-04-06T18:05:40.736152Z",
     "iopub.status.idle": "2025-04-06T18:05:40.741464Z",
     "shell.execute_reply": "2025-04-06T18:05:40.740295Z",
     "shell.execute_reply.started": "2025-04-06T18:05:40.736434Z"
    },
    "trusted": true
   },
   "outputs": [],
   "source": [
    "def extract_wav2vec2_embedding(waveform):   #extract mean Wav2Vec2 embeddings from the waveform.\n",
    "    # waveform is a 1D numpy array\n",
    "    inputs = processor(waveform, sampling_rate=16000, return_tensors=\"pt\", padding=True)\n",
    "    input_values = inputs.input_values.to(device)  # shape: [1, time]\n",
    "    \n",
    "    with torch.no_grad():\n",
    "        outputs = model(input_values)\n",
    "\n",
    "    # Average pooling across time dimension\n",
    "    embeddings = outputs.last_hidden_state.mean(dim=1).squeeze().cpu().numpy()\n",
    "    return embeddings\n"
   ]
  },
  {
   "cell_type": "code",
   "execution_count": 41,
   "metadata": {
    "execution": {
     "iopub.execute_input": "2025-04-06T18:01:36.204849Z",
     "iopub.status.busy": "2025-04-06T18:01:36.204537Z",
     "iopub.status.idle": "2025-04-06T18:04:10.494517Z",
     "shell.execute_reply": "2025-04-06T18:04:10.493629Z",
     "shell.execute_reply.started": "2025-04-06T18:01:36.204826Z"
    },
    "trusted": true
   },
   "outputs": [
    {
     "name": "stderr",
     "output_type": "stream",
     "text": [
      "100%|██████████| 444/444 [02:34<00:00,  2.88it/s]\n"
     ]
    }
   ],
   "source": [
    "# === Extract Features for All Training Audio ===\n",
    "features = []\n",
    "labels = []\n",
    "\n",
    "for idx, row in tqdm(train_df.iterrows(), total=len(train_df)):\n",
    "    file_path = os.path.join(audio_dir, row['filename'])\n",
    "    waveform = load_audio(file_path)\n",
    "    embedding = extract_wav2vec2_embedding(waveform)\n",
    "    features.append(embedding)\n",
    "    labels.append(row['label'])"
   ]
  },
  {
   "cell_type": "code",
   "execution_count": 42,
   "metadata": {
    "execution": {
     "iopub.execute_input": "2025-04-06T18:04:10.495701Z",
     "iopub.status.busy": "2025-04-06T18:04:10.495450Z",
     "iopub.status.idle": "2025-04-06T18:04:10.500764Z",
     "shell.execute_reply": "2025-04-06T18:04:10.499899Z",
     "shell.execute_reply.started": "2025-04-06T18:04:10.495679Z"
    },
    "trusted": true
   },
   "outputs": [],
   "source": [
    "# === Convert to NumPy Arrays ===\n",
    "import numpy as np\n",
    "X = np.array(features)\n",
    "y = np.array(labels)"
   ]
  },
  {
   "cell_type": "markdown",
   "metadata": {},
   "source": [
    "# Data Set Preparation"
   ]
  },
  {
   "cell_type": "code",
   "execution_count": 43,
   "metadata": {
    "execution": {
     "iopub.execute_input": "2025-04-06T18:04:10.501914Z",
     "iopub.status.busy": "2025-04-06T18:04:10.501661Z",
     "iopub.status.idle": "2025-04-06T18:04:10.522418Z",
     "shell.execute_reply": "2025-04-06T18:04:10.521658Z",
     "shell.execute_reply.started": "2025-04-06T18:04:10.501893Z"
    },
    "trusted": true
   },
   "outputs": [
    {
     "name": "stdout",
     "output_type": "stream",
     "text": [
      "Training set size: 355\n",
      "Validation set size: 89\n"
     ]
    }
   ],
   "source": [
    "from sklearn.model_selection import train_test_split\n",
    "\n",
    "# Split data into training and validation sets\n",
    "X_train, X_val, y_train, y_val = train_test_split(X, y, test_size=0.2, random_state=42)\n",
    "\n",
    "print(f\"Training set size: {X_train.shape[0]}\")\n",
    "print(f\"Validation set size: {X_val.shape[0]}\")"
   ]
  },
  {
   "cell_type": "code",
   "execution_count": 44,
   "metadata": {
    "execution": {
     "iopub.execute_input": "2025-04-06T18:04:10.523538Z",
     "iopub.status.busy": "2025-04-06T18:04:10.523263Z",
     "iopub.status.idle": "2025-04-06T18:04:10.545187Z",
     "shell.execute_reply": "2025-04-06T18:04:10.544343Z",
     "shell.execute_reply.started": "2025-04-06T18:04:10.523510Z"
    },
    "trusted": true
   },
   "outputs": [],
   "source": [
    "# Train Regression Models (Baseline)\n",
    "from sklearn.linear_model import Ridge, LinearRegression\n",
    "from sklearn.ensemble import RandomForestRegressor, GradientBoostingRegressor\n",
    "from sklearn.svm import SVR\n",
    "from sklearn.metrics import mean_squared_error, mean_absolute_error, r2_score\n",
    "from sklearn.preprocessing import StandardScaler\n",
    "from xgboost import XGBRegressor  # ✅ XGBoost import\n",
    "\n",
    "# Standardize the features\n",
    "scaler = StandardScaler()\n",
    "X_train_scaled = scaler.fit_transform(X_train)\n",
    "X_val_scaled = scaler.transform(X_val)\n"
   ]
  },
  {
   "cell_type": "code",
   "execution_count": 45,
   "metadata": {
    "execution": {
     "iopub.execute_input": "2025-04-06T18:04:10.546444Z",
     "iopub.status.busy": "2025-04-06T18:04:10.546089Z",
     "iopub.status.idle": "2025-04-06T18:04:10.554820Z",
     "shell.execute_reply": "2025-04-06T18:04:10.554070Z",
     "shell.execute_reply.started": "2025-04-06T18:04:10.546405Z"
    },
    "trusted": true
   },
   "outputs": [],
   "source": [
    "from sklearn.metrics import mean_squared_error, mean_absolute_error, r2_score\n",
    "from scipy.stats import pearsonr\n",
    "import numpy as np\n",
    "\n",
    "def evaluate_model(model, X_train, y_train, X_val, y_val):\n",
    "    model.fit(X_train, y_train)\n",
    "    y_pred = model.predict(X_val)\n",
    "\n",
    "    # Clip predictions to valid range [0, 5]\n",
    "    y_pred = np.clip(y_pred, 0, 5)\n",
    "\n",
    "    mse = mean_squared_error(y_val, y_pred)\n",
    "    mae = mean_absolute_error(y_val, y_pred)\n",
    "    r2 = r2_score(y_val, y_pred)\n",
    "    pearson_corr, _ = pearsonr(y_val, y_pred)\n",
    "\n",
    "    print(f\"MSE: {mse:.4f}\")\n",
    "    print(f\"MAE: {mae:.4f}\")\n",
    "    print(f\"R²: {r2:.4f}\")\n",
    "    print(f\"Pearson Correlation: {pearson_corr:.4f}\")\n",
    "\n",
    "    return mse, mae, r2, pearson_corr, model\n",
    "\n",
    "\n",
    "# Try different regression models\n",
    "models = {\n",
    "    \"Linear Regression\": LinearRegression(),\n",
    "    \"Ridge Regression\": Ridge(alpha=1.0),\n",
    "    \"SVR\": SVR(kernel='rbf', C=1.0, epsilon=0.1),\n",
    "    \"Random Forest\": RandomForestRegressor(n_estimators=100, random_state=42),\n",
    "    \"Gradient Boosting\": GradientBoostingRegressor(n_estimators=100, random_state=42),\n",
    "    \"XGBoost\": XGBRegressor(n_estimators=100, max_depth=3, learning_rate=0.1, random_state=42)\n",
    "}\n",
    "\n",
    "results = {}\n",
    "\n"
   ]
  },
  {
   "cell_type": "code",
   "execution_count": 46,
   "metadata": {
    "execution": {
     "iopub.execute_input": "2025-04-06T18:04:10.556399Z",
     "iopub.status.busy": "2025-04-06T18:04:10.555994Z",
     "iopub.status.idle": "2025-04-06T18:04:28.957987Z",
     "shell.execute_reply": "2025-04-06T18:04:28.957075Z",
     "shell.execute_reply.started": "2025-04-06T18:04:10.556364Z"
    },
    "trusted": true
   },
   "outputs": [
    {
     "name": "stdout",
     "output_type": "stream",
     "text": [
      "Evaluating regression models...\n",
      "\n",
      "Linear Regression:\n",
      "MSE: 1.1194\n",
      "MAE: 0.7013\n",
      "R²: 0.1788\n",
      "Pearson Correlation: 0.6056\n",
      "\n",
      "Ridge Regression:\n",
      "MSE: 0.9481\n",
      "MAE: 0.6455\n",
      "R²: 0.3045\n",
      "Pearson Correlation: 0.6369\n",
      "\n",
      "SVR:\n",
      "MSE: 0.5473\n",
      "MAE: 0.5963\n",
      "R²: 0.5985\n",
      "Pearson Correlation: 0.7837\n",
      "\n",
      "Random Forest:\n",
      "MSE: 0.7364\n",
      "MAE: 0.7200\n",
      "R²: 0.4598\n",
      "Pearson Correlation: 0.7095\n",
      "\n",
      "Gradient Boosting:\n",
      "MSE: 0.6811\n",
      "MAE: 0.6694\n",
      "R²: 0.5003\n",
      "Pearson Correlation: 0.7185\n",
      "\n",
      "XGBoost:\n",
      "MSE: 0.6991\n",
      "MAE: 0.6776\n",
      "R²: 0.4871\n",
      "Pearson Correlation: 0.7127\n",
      "\n",
      "Best model: SVR with MSE: 0.5473\n"
     ]
    }
   ],
   "source": [
    "print(\"Evaluating regression models...\")\n",
    "for name, model in models.items():\n",
    "    print(f\"\\n{name}:\")\n",
    "    mse, mae, r2, pearson_corr, trained_model = evaluate_model(model, X_train_scaled, y_train, X_val_scaled, y_val)\n",
    "    results[name] = {\"model\": trained_model, \"mse\": mse, \"mae\": mae, \"r2\": r2}\n",
    "\n",
    "# Select the best model based on MSE\n",
    "best_model_name = min(results, key=lambda x: results[x][\"mse\"])\n",
    "best_model = results[best_model_name][\"model\"]\n",
    "print(f\"\\nBest model: {best_model_name} with MSE: {results[best_model_name]['mse']:.4f}\")"
   ]
  },
  {
   "cell_type": "code",
   "execution_count": 47,
   "metadata": {
    "execution": {
     "iopub.execute_input": "2025-04-06T18:04:28.959392Z",
     "iopub.status.busy": "2025-04-06T18:04:28.959130Z",
     "iopub.status.idle": "2025-04-06T18:04:40.146566Z",
     "shell.execute_reply": "2025-04-06T18:04:40.145503Z",
     "shell.execute_reply.started": "2025-04-06T18:04:28.959370Z"
    },
    "trusted": true
   },
   "outputs": [
    {
     "name": "stdout",
     "output_type": "stream",
     "text": [
      "Fitting 5 folds for each of 48 candidates, totalling 240 fits\n",
      "Best parameters: {'C': 10, 'epsilon': 0.01, 'gamma': 'auto', 'kernel': 'rbf'}\n",
      "Fine-tuned model performance:\n",
      "MSE: 0.4463\n",
      "MAE: 0.4994\n",
      "R²: 0.6726\n"
     ]
    }
   ],
   "source": [
    "from sklearn.model_selection import GridSearchCV\n",
    "from sklearn.svm import SVR\n",
    "\n",
    "#hyperparameter Tuning (SVR)\n",
    "param_grid = {\n",
    "    'kernel': ['rbf', 'linear'],            # Try different kernels\n",
    "    'C': [0.1, 1, 10, 100],                 # Regularization strength\n",
    "    'epsilon': [0.01, 0.1, 0.2],            # Insensitive loss margin\n",
    "    'gamma': ['scale', 'auto']             # Kernel coefficient\n",
    "}\n",
    "\n",
    "# Grid search setup\n",
    "grid_search = GridSearchCV(\n",
    "    SVR(),                     # SVR model\n",
    "    param_grid=param_grid,\n",
    "    cv=5,\n",
    "    scoring='neg_mean_squared_error',\n",
    "    verbose=1,\n",
    "    n_jobs=-1\n",
    ")\n",
    "\n",
    "# Fit the grid search\n",
    "grid_search.fit(X_train_scaled, y_train)\n",
    "\n",
    "# Get the best model\n",
    "best_model = grid_search.best_estimator_\n",
    "print(f\"Best parameters: {grid_search.best_params_}\")\n",
    "\n",
    "# Evaluate on validation set\n",
    "y_pred = best_model.predict(X_val_scaled)\n",
    "y_pred = np.clip(y_pred, 0, 5)  # Clip to valid range\n",
    "\n",
    "mse = mean_squared_error(y_val, y_pred)\n",
    "mae = mean_absolute_error(y_val, y_pred)\n",
    "r2 = r2_score(y_val, y_pred)\n",
    "\n",
    "print(f\"Fine-tuned model performance:\")\n",
    "print(f\"MSE: {mse:.4f}\")\n",
    "print(f\"MAE: {mae:.4f}\")\n",
    "print(f\"R²: {r2:.4f}\")"
   ]
  },
  {
   "cell_type": "code",
   "execution_count": 53,
   "metadata": {
    "execution": {
     "iopub.execute_input": "2025-04-06T18:05:49.169361Z",
     "iopub.status.busy": "2025-04-06T18:05:49.168997Z",
     "iopub.status.idle": "2025-04-06T18:06:52.679041Z",
     "shell.execute_reply": "2025-04-06T18:06:52.678108Z",
     "shell.execute_reply.started": "2025-04-06T18:05:49.169334Z"
    },
    "trusted": true
   },
   "outputs": [
    {
     "name": "stdout",
     "output_type": "stream",
     "text": [
      "Test samples: 195\n"
     ]
    },
    {
     "name": "stderr",
     "output_type": "stream",
     "text": [
      "100%|██████████| 195/195 [01:03<00:00,  3.07it/s]\n"
     ]
    }
   ],
   "source": [
    "# Load test data\n",
    "test_df = pd.read_csv('/kaggle/input/shl-hiring-tests/dataset/test.csv')\n",
    "test_audio_dir = \"/kaggle/input/shl-hiring-tests/dataset/audios_test\"\n",
    "\n",
    "print(f\"Test samples: {len(test_df)}\")\n",
    "\n",
    "# Extract features for test data\n",
    "test_features = []\n",
    "for idx, row in tqdm(test_df.iterrows(), total=len(test_df)):\n",
    "    file_path = os.path.join(test_audio_dir, row['filename'])\n",
    "    waveform = load_audio(file_path)\n",
    "    embedding = extract_wav2vec2_embedding(waveform)\n",
    "    test_features.append(embedding)\n",
    "\n",
    "X_test = np.array(test_features)\n",
    "X_test_scaled = scaler.transform(X_test)  # Scale using the same scaler\n",
    "\n",
    "# Make predictions\n",
    "test_predictions = best_model.predict(X_test_scaled)\n",
    "test_predictions = np.clip(test_predictions, 0, 5)  # Clip to valid range\n",
    "\n",
    "# Save predictions to CSV\n",
    "test_df['label'] = test_predictions"
   ]
  },
  {
   "cell_type": "code",
   "execution_count": 54,
   "metadata": {
    "execution": {
     "iopub.execute_input": "2025-04-06T18:07:03.338835Z",
     "iopub.status.busy": "2025-04-06T18:07:03.338492Z",
     "iopub.status.idle": "2025-04-06T18:07:03.348613Z",
     "shell.execute_reply": "2025-04-06T18:07:03.347813Z",
     "shell.execute_reply.started": "2025-04-06T18:07:03.338806Z"
    },
    "trusted": true
   },
   "outputs": [
    {
     "data": {
      "text/html": [
       "<div>\n",
       "<style scoped>\n",
       "    .dataframe tbody tr th:only-of-type {\n",
       "        vertical-align: middle;\n",
       "    }\n",
       "\n",
       "    .dataframe tbody tr th {\n",
       "        vertical-align: top;\n",
       "    }\n",
       "\n",
       "    .dataframe thead th {\n",
       "        text-align: right;\n",
       "    }\n",
       "</style>\n",
       "<table border=\"1\" class=\"dataframe\">\n",
       "  <thead>\n",
       "    <tr style=\"text-align: right;\">\n",
       "      <th></th>\n",
       "      <th>filename</th>\n",
       "      <th>label</th>\n",
       "    </tr>\n",
       "  </thead>\n",
       "  <tbody>\n",
       "    <tr>\n",
       "      <th>0</th>\n",
       "      <td>audio_706.wav</td>\n",
       "      <td>2.471994</td>\n",
       "    </tr>\n",
       "    <tr>\n",
       "      <th>1</th>\n",
       "      <td>audio_800.wav</td>\n",
       "      <td>2.611242</td>\n",
       "    </tr>\n",
       "    <tr>\n",
       "      <th>2</th>\n",
       "      <td>audio_68.wav</td>\n",
       "      <td>3.235404</td>\n",
       "    </tr>\n",
       "    <tr>\n",
       "      <th>3</th>\n",
       "      <td>audio_1267.wav</td>\n",
       "      <td>3.368394</td>\n",
       "    </tr>\n",
       "    <tr>\n",
       "      <th>4</th>\n",
       "      <td>audio_683.wav</td>\n",
       "      <td>2.201790</td>\n",
       "    </tr>\n",
       "    <tr>\n",
       "      <th>5</th>\n",
       "      <td>audio_1242.wav</td>\n",
       "      <td>2.364693</td>\n",
       "    </tr>\n",
       "    <tr>\n",
       "      <th>6</th>\n",
       "      <td>audio_908.wav</td>\n",
       "      <td>2.973348</td>\n",
       "    </tr>\n",
       "    <tr>\n",
       "      <th>7</th>\n",
       "      <td>audio_888.wav</td>\n",
       "      <td>3.265724</td>\n",
       "    </tr>\n",
       "    <tr>\n",
       "      <th>8</th>\n",
       "      <td>audio_137.wav</td>\n",
       "      <td>3.392523</td>\n",
       "    </tr>\n",
       "    <tr>\n",
       "      <th>9</th>\n",
       "      <td>audio_770.wav</td>\n",
       "      <td>2.255207</td>\n",
       "    </tr>\n",
       "  </tbody>\n",
       "</table>\n",
       "</div>"
      ],
      "text/plain": [
       "         filename     label\n",
       "0   audio_706.wav  2.471994\n",
       "1   audio_800.wav  2.611242\n",
       "2    audio_68.wav  3.235404\n",
       "3  audio_1267.wav  3.368394\n",
       "4   audio_683.wav  2.201790\n",
       "5  audio_1242.wav  2.364693\n",
       "6   audio_908.wav  2.973348\n",
       "7   audio_888.wav  3.265724\n",
       "8   audio_137.wav  3.392523\n",
       "9   audio_770.wav  2.255207"
      ]
     },
     "execution_count": 54,
     "metadata": {},
     "output_type": "execute_result"
    }
   ],
   "source": [
    "test_df.head(10)"
   ]
  },
  {
   "cell_type": "code",
   "execution_count": 55,
   "metadata": {
    "execution": {
     "iopub.execute_input": "2025-04-06T18:07:05.990074Z",
     "iopub.status.busy": "2025-04-06T18:07:05.989709Z",
     "iopub.status.idle": "2025-04-06T18:07:06.219941Z",
     "shell.execute_reply": "2025-04-06T18:07:06.219075Z",
     "shell.execute_reply.started": "2025-04-06T18:07:05.990036Z"
    },
    "trusted": true
   },
   "outputs": [
    {
     "name": "stderr",
     "output_type": "stream",
     "text": [
      "/usr/local/lib/python3.10/dist-packages/seaborn/_oldcore.py:1119: FutureWarning: use_inf_as_na option is deprecated and will be removed in a future version. Convert inf values to NaN before operating instead.\n",
      "  with pd.option_context('mode.use_inf_as_na', True):\n"
     ]
    },
    {
     "data": {
      "image/png": "[encoded data removed]",
      "text/plain": [
       "<Figure size 600x300 with 1 Axes>"
      ]
     },
     "metadata": {},
     "output_type": "display_data"
    }
   ],
   "source": [
    "# Visualize score distribution\n",
    "plt.figure(figsize=(6, 3))\n",
    "sns.histplot(test_df['label'], bins=20, kde=True)\n",
    "plt.title('Distribution of Predicted Grammar Scores')\n",
    "plt.xlabel('Score')\n",
    "plt.ylabel('Count')\n",
    "plt.show()"
   ]
  },
  {
   "cell_type": "code",
   "execution_count": null,
   "metadata": {
    "execution": {
     "iopub.execute_input": "2025-04-06T18:07:13.054952Z",
     "iopub.status.busy": "2025-04-06T18:07:13.054656Z",
     "iopub.status.idle": "2025-04-06T18:07:13.062839Z",
     "shell.execute_reply": "2025-04-06T18:07:13.061853Z",
     "shell.execute_reply.started": "2025-04-06T18:07:13.054929Z"
    },
    "trusted": true
   },
   "outputs": [],
   "source": [
    "test_df[['filename', 'label']].to_csv('predictions_19.csv', index=False)\n",
    "print(\"Predictions saved to 'predictions_13.csv'\")"
   ]
  },
  {
   "attachments": {
    "a62361ab-8483-4913-8bb5-6d4e3af7ac92.png": {
     "image/png": "[encoded data removed]"
    }
   },
   "cell_type": "markdown",
   "metadata": {},
   "source": [
    "# 2nd Approach <br>\n",
    "\n",
    "![Approach_2.drawio.png](attachment:a62361ab-8483-4913-8bb5-6d4e3af7ac92.png)\n",
    "\n",
    "1) **Dataset Input** : The system starts with a dataset consisting of audio files.\n",
    "2) **Speech-to-Text Conversion** : Audio files are passed through OpenAI Whisper, an automatic speech recognition (ASR) model. <br>\n",
    "**Output**: Transcription – the spoken content is converted into text.\n",
    "3) **Text Tokenization** : The transcribed text is then processed using a BERT tokenizer, which converts raw text into token IDs suitable for input to a BERT model.\n",
    "4) **Grammar Scoring** : The tokenized text is passed to a BERT-based model trained for grammar scoring. This model predicts a grammar quality score for each transcription (on a scale such as 0–5).\n",
    "5) **Results** : The evaluation metrics are used to assess how well the grammar scorer performs, providing insights into model accuracy and reliability.\n",
    "\n",
    "**Note** : I also tried using wav2vec2 for transcribing the audio files, but the results were not satisfactory. The transcription quality was poor, leading to inaccurate grammar scoring. Therefore, I opted for OpenAI Whisper for better transcription accuracy."
   ]
  },
  {
   "cell_type": "code",
   "execution_count": 57,
   "metadata": {
    "execution": {
     "iopub.execute_input": "2025-04-06T18:30:39.714757Z",
     "iopub.status.busy": "2025-04-06T18:30:39.714352Z",
     "iopub.status.idle": "2025-04-06T18:30:39.747025Z",
     "shell.execute_reply": "2025-04-06T18:30:39.746111Z",
     "shell.execute_reply.started": "2025-04-06T18:30:39.714724Z"
    },
    "trusted": true
   },
   "outputs": [
    {
     "name": "stdout",
     "output_type": "stream",
     "text": [
      "Training dataset head:\n",
      "         filename  label\n",
      "0  audio_1261.wav    1.0\n",
      "1   audio_942.wav    1.5\n",
      "2  audio_1110.wav    1.5\n",
      "3  audio_1024.wav    1.5\n",
      "4   audio_538.wav    2.0\n",
      "\n",
      "Dataset info:\n",
      "<class 'pandas.core.frame.DataFrame'>\n",
      "RangeIndex: 444 entries, 0 to 443\n",
      "Data columns (total 2 columns):\n",
      " #   Column    Non-Null Count  Dtype  \n",
      "---  ------    --------------  -----  \n",
      " 0   filename  444 non-null    object \n",
      " 1   label     444 non-null    float64\n",
      "dtypes: float64(1), object(1)\n",
      "memory usage: 7.1+ KB\n",
      "None\n"
     ]
    }
   ],
   "source": [
    "import pandas as pd\n",
    "import os\n",
    "\n",
    "# Load training data\n",
    "train_df = pd.read_csv('/kaggle/input/shl-hiring-tests/dataset/train.csv')\n",
    "\n",
    "# Display the first few rows and basic information\n",
    "print(\"Training dataset head:\")\n",
    "print(train_df.head())\n",
    "print(\"\\nDataset info:\")\n",
    "print(train_df.info())"
   ]
  },
  {
   "cell_type": "code",
   "execution_count": 58,
   "metadata": {
    "execution": {
     "iopub.execute_input": "2025-04-06T18:30:56.394774Z",
     "iopub.status.busy": "2025-04-06T18:30:56.394460Z",
     "iopub.status.idle": "2025-04-06T18:30:56.405853Z",
     "shell.execute_reply": "2025-04-06T18:30:56.404920Z",
     "shell.execute_reply.started": "2025-04-06T18:30:56.394750Z"
    },
    "trusted": true
   },
   "outputs": [
    {
     "name": "stdout",
     "output_type": "stream",
     "text": [
      "\n",
      "Sample audio files: ['audio_90.wav', 'audio_581.wav', 'audio_77.wav', 'audio_817.wav', 'audio_694.wav']\n",
      "Total audio files: 444\n",
      "File audio_1261.wav: Exists\n",
      "File audio_942.wav: Exists\n",
      "File audio_1110.wav: Exists\n"
     ]
    }
   ],
   "source": [
    "# Check audio files\n",
    "train_audio_dir = '/kaggle/input/shl-hiring-tests/dataset/audios_train'\n",
    "print(f\"\\nSample audio files: {os.listdir(train_audio_dir)[:5]}\")\n",
    "print(f\"Total audio files: {len(os.listdir(train_audio_dir))}\")\n",
    "\n",
    "# Verify audio file existence for a few samples\n",
    "sample_files = train_df['filename'].head(3).tolist()\n",
    "for file in sample_files:\n",
    "    full_path = os.path.join(train_audio_dir, file)\n",
    "    print(f\"File {file}: {'Exists' if os.path.exists(full_path) else 'Not found'}\")"
   ]
  },
  {
   "cell_type": "code",
   "execution_count": 60,
   "metadata": {
    "execution": {
     "iopub.execute_input": "2025-04-06T18:34:28.891424Z",
     "iopub.status.busy": "2025-04-06T18:34:28.890826Z",
     "iopub.status.idle": "2025-04-06T18:34:28.897499Z",
     "shell.execute_reply": "2025-04-06T18:34:28.896335Z",
     "shell.execute_reply.started": "2025-04-06T18:34:28.891372Z"
    },
    "trusted": true
   },
   "outputs": [],
   "source": [
    "import os\n",
    "import pandas as pd\n",
    "import torch\n",
    "import librosa\n",
    "from tqdm import tqdm\n",
    "from transformers import WhisperProcessor, WhisperForConditionalGeneration\n",
    "import numpy as np\n",
    "\n",
    "from transformers import Wav2Vec2ForCTC, Wav2Vec2Processor"
   ]
  },
  {
   "cell_type": "code",
   "execution_count": 61,
   "metadata": {
    "execution": {
     "iopub.execute_input": "2025-04-06T18:34:32.710209Z",
     "iopub.status.busy": "2025-04-06T18:34:32.709867Z",
     "iopub.status.idle": "2025-04-06T18:34:32.720254Z",
     "shell.execute_reply": "2025-04-06T18:34:32.719114Z",
     "shell.execute_reply.started": "2025-04-06T18:34:32.710182Z"
    },
    "trusted": true
   },
   "outputs": [],
   "source": [
    "def transcribe_dataset(csv_path, audio_dir, output_csv=None, model_name=\"openai/whisper-large-v3\"):\n",
    "    # Load CSV containing audio filenames\n",
    "    df = pd.read_csv(csv_path)\n",
    "    print(f\"Loaded {len(df)} entries from {csv_path}\")\n",
    "    \n",
    "    # Use GPU if available\n",
    "    device = \"cuda\" if torch.cuda.is_available() else \"cpu\"\n",
    "    print(f\"Using device: {device}\")\n",
    "    \n",
    "    # Load Whisper model and processor\n",
    "    processor = WhisperProcessor.from_pretrained(model_name)\n",
    "    model = WhisperForConditionalGeneration.from_pretrained(model_name).to(device)\n",
    "    \n",
    "    transcriptions = []\n",
    "    failed_files = []\n",
    "    \n",
    "    # Loop through each audio file\n",
    "    for idx, filename in tqdm(enumerate(df['filename']), total=len(df)):\n",
    "        try:\n",
    "            audio_path = os.path.join(audio_dir, filename)\n",
    "            \n",
    "            # Load audio with librosa at 16kHz\n",
    "            audio, sr = librosa.load(audio_path, sr=16000)\n",
    "            \n",
    "            # Convert to float32 for model compatibility\n",
    "            if audio.dtype != np.float32:\n",
    "                audio = audio.astype(np.float32)\n",
    "            \n",
    "            # Handle empty audio\n",
    "            if len(audio) == 0:\n",
    "                print(f\"Warning: Empty audio file {filename}\")\n",
    "                transcriptions.append(\"\")\n",
    "                failed_files.append(filename)\n",
    "                continue\n",
    "            \n",
    "            # Preprocess input for Whisper\n",
    "            input_features = processor(\n",
    "                audio, \n",
    "                sampling_rate=16000, \n",
    "                return_tensors=\"pt\", \n",
    "                return_attention_mask=True\n",
    "            ).to(device)\n",
    "            \n",
    "            # Generate transcription using forced English decoding\n",
    "            with torch.no_grad():\n",
    "                forced_decoder_ids = processor.get_decoder_prompt_ids(language=\"en\", task=\"transcribe\")\n",
    "                predicted_ids = model.generate(\n",
    "                    input_features.input_features,\n",
    "                    attention_mask=input_features.attention_mask,\n",
    "                    forced_decoder_ids=forced_decoder_ids,\n",
    "                    max_length=448\n",
    "                )\n",
    "            \n",
    "            # Decode prediction to text\n",
    "            transcription = processor.batch_decode(predicted_ids, skip_special_tokens=True)[0]\n",
    "            \n",
    "            # Remove non-ASCII characters\n",
    "            transcription = ''.join(c if ord(c) < 128 else ' ' for c in transcription)\n",
    "            \n",
    "            transcriptions.append(transcription)\n",
    "            \n",
    "            if idx % 50 == 0:\n",
    "                print(f\"Sample transcription ({filename}): {transcription}\")\n",
    "                \n",
    "        except Exception as e:\n",
    "            print(f\"Error processing {filename}: {str(e)}\")\n",
    "            transcriptions.append(\"\")\n",
    "            failed_files.append(filename)\n",
    "    \n",
    "    # Add transcriptions to dataframe\n",
    "    df['transcription'] = transcriptions\n",
    "    \n",
    "    # Save updated CSV if requested\n",
    "    if output_csv:\n",
    "        df.to_csv(output_csv, index=False)\n",
    "        print(f\"Saved transcriptions to {output_csv}\")\n",
    "        \n",
    "    # Print failed file summary\n",
    "    if failed_files:\n",
    "        print(f\"Failed to process {len(failed_files)} files:\")\n",
    "        for f in failed_files[:10]:\n",
    "            print(f\"  - {f}\")\n",
    "        if len(failed_files) > 10:\n",
    "            print(f\"  - ... and {len(failed_files) - 10} more\")\n",
    "    \n",
    "    return df\n"
   ]
  },
  {
   "cell_type": "code",
   "execution_count": 62,
   "metadata": {
    "execution": {
     "iopub.execute_input": "2025-04-06T18:34:57.799390Z",
     "iopub.status.busy": "2025-04-06T18:34:57.799079Z",
     "iopub.status.idle": "2025-04-06T18:55:35.277284Z",
     "shell.execute_reply": "2025-04-06T18:55:35.276435Z",
     "shell.execute_reply.started": "2025-04-06T18:34:57.799366Z"
    },
    "trusted": true
   },
   "outputs": [
    {
     "name": "stdout",
     "output_type": "stream",
     "text": [
      "Loaded 444 entries from /kaggle/input/shl-hiring-tests/dataset/train.csv\n",
      "Using device: cuda\n"
     ]
    },
    {
     "data": {
      "application/vnd.jupyter.widget-view+json": {
       "model_id": "20a327b2264f4b9e8b226568062e13a8",
       "version_major": 2,
       "version_minor": 0
      },
      "text/plain": [
       "preprocessor_config.json:   0%|          | 0.00/340 [00:00<?, ?B/s]"
      ]
     },
     "metadata": {},
     "output_type": "display_data"
    },
    {
     "data": {
      "application/vnd.jupyter.widget-view+json": {
       "model_id": "d182723064034c33b3f030621112c390",
       "version_major": 2,
       "version_minor": 0
      },
      "text/plain": [
       "tokenizer_config.json:   0%|          | 0.00/283k [00:00<?, ?B/s]"
      ]
     },
     "metadata": {},
     "output_type": "display_data"
    },
    {
     "data": {
      "application/vnd.jupyter.widget-view+json": {
       "model_id": "e242d8bf9763434097dd242b138fa759",
       "version_major": 2,
       "version_minor": 0
      },
      "text/plain": [
       "vocab.json:   0%|          | 0.00/1.04M [00:00<?, ?B/s]"
      ]
     },
     "metadata": {},
     "output_type": "display_data"
    },
    {
     "data": {
      "application/vnd.jupyter.widget-view+json": {
       "model_id": "d6babf4a8aed4bb1913ea182ef95caac",
       "version_major": 2,
       "version_minor": 0
      },
      "text/plain": [
       "tokenizer.json:   0%|          | 0.00/2.48M [00:00<?, ?B/s]"
      ]
     },
     "metadata": {},
     "output_type": "display_data"
    },
    {
     "data": {
      "application/vnd.jupyter.widget-view+json": {
       "model_id": "174963ba73bc49a381c5eada77dc057f",
       "version_major": 2,
       "version_minor": 0
      },
      "text/plain": [
       "merges.txt:   0%|          | 0.00/494k [00:00<?, ?B/s]"
      ]
     },
     "metadata": {},
     "output_type": "display_data"
    },
    {
     "data": {
      "application/vnd.jupyter.widget-view+json": {
       "model_id": "45034dae2248425fb99e0f68d8537094",
       "version_major": 2,
       "version_minor": 0
      },
      "text/plain": [
       "normalizer.json:   0%|          | 0.00/52.7k [00:00<?, ?B/s]"
      ]
     },
     "metadata": {},
     "output_type": "display_data"
    },
    {
     "data": {
      "application/vnd.jupyter.widget-view+json": {
       "model_id": "f480ce732cfc440a8314f85467ea25bc",
       "version_major": 2,
       "version_minor": 0
      },
      "text/plain": [
       "added_tokens.json:   0%|          | 0.00/34.6k [00:00<?, ?B/s]"
      ]
     },
     "metadata": {},
     "output_type": "display_data"
    },
    {
     "data": {
      "application/vnd.jupyter.widget-view+json": {
       "model_id": "41835c493f504c9d8e476630303cc0fb",
       "version_major": 2,
       "version_minor": 0
      },
      "text/plain": [
       "special_tokens_map.json:   0%|          | 0.00/2.07k [00:00<?, ?B/s]"
      ]
     },
     "metadata": {},
     "output_type": "display_data"
    },
    {
     "data": {
      "application/vnd.jupyter.widget-view+json": {
       "model_id": "eeb137f3635b4970b31bf796c8edb3d3",
       "version_major": 2,
       "version_minor": 0
      },
      "text/plain": [
       "config.json:   0%|          | 0.00/1.27k [00:00<?, ?B/s]"
      ]
     },
     "metadata": {},
     "output_type": "display_data"
    },
    {
     "data": {
      "application/vnd.jupyter.widget-view+json": {
       "model_id": "df7a9839686d483abc3b3e630526d2ab",
       "version_major": 2,
       "version_minor": 0
      },
      "text/plain": [
       "model.safetensors:   0%|          | 0.00/3.09G [00:00<?, ?B/s]"
      ]
     },
     "metadata": {},
     "output_type": "display_data"
    },
    {
     "data": {
      "application/vnd.jupyter.widget-view+json": {
       "model_id": "a3443f7c3f084819919f87076516c52e",
       "version_major": 2,
       "version_minor": 0
      },
      "text/plain": [
       "generation_config.json:   0%|          | 0.00/3.90k [00:00<?, ?B/s]"
      ]
     },
     "metadata": {},
     "output_type": "display_data"
    },
    {
     "name": "stderr",
     "output_type": "stream",
     "text": [
      "  0%|          | 1/444 [00:20<2:31:45, 20.55s/it]"
     ]
    },
    {
     "name": "stdout",
     "output_type": "stream",
     "text": [
      "Sample transcription (audio_1261.wav):  Thank you.\n"
     ]
    },
    {
     "name": "stderr",
     "output_type": "stream",
     "text": [
      " 11%|█▏        | 51/444 [01:49<12:45,  1.95s/it] "
     ]
    },
    {
     "name": "stdout",
     "output_type": "stream",
     "text": [
      "Sample transcription (audio_244.wav):  My favorite hobby is watching movies. So watching movies is just like to entertain ourselves or to relieve from tension or stress. So majority watch movies so well in holidays or vacations. But my hobby is to watch in while exams because while examinations brain is all about the tension or think about exams only. But if I believe in that at that time if you watch and\n"
     ]
    },
    {
     "name": "stderr",
     "output_type": "stream",
     "text": [
      " 23%|██▎       | 101/444 [03:21<10:56,  1.91s/it]"
     ]
    },
    {
     "name": "stdout",
     "output_type": "stream",
     "text": [
      "Sample transcription (audio_1028.wav):  My favorite place to visit Kerala and it's so beautiful with greenery and boat traveling and there are many famous places like vineyard somewhere like with full of greenery and nature with peaceful mind and there was many fruits like they prepare with coconut\n"
     ]
    },
    {
     "name": "stderr",
     "output_type": "stream",
     "text": [
      " 34%|███▍      | 151/444 [04:49<07:21,  1.51s/it]"
     ]
    },
    {
     "name": "stdout",
     "output_type": "stream",
     "text": [
      "Sample transcription (audio_827.wav):  uh\n"
     ]
    },
    {
     "name": "stderr",
     "output_type": "stream",
     "text": [
      " 45%|████▌     | 201/444 [06:24<06:54,  1.71s/it]"
     ]
    },
    {
     "name": "stdout",
     "output_type": "stream",
     "text": [
      "Sample transcription (audio_721.wav):  it is a center of attraction for both buyers and sellers there is no other place in the area having so such risky business as the market i always find a big crowd there there are usually shops or decorate all decorated beautifully uh so usually the markets are very busy and crowded um it is very difficult to\n"
     ]
    },
    {
     "name": "stderr",
     "output_type": "stream",
     "text": [
      " 57%|█████▋    | 251/444 [08:04<06:25,  1.99s/it]"
     ]
    },
    {
     "name": "stdout",
     "output_type": "stream",
     "text": [
      "Sample transcription (audio_188.wav):  My favorite hobby is painting. I really enjoy putting a paintbrush to a canvas and seeing what happens. I am not trained in any way, so things\n"
     ]
    },
    {
     "name": "stderr",
     "output_type": "stream",
     "text": [
      " 68%|██████▊   | 301/444 [09:34<04:08,  1.74s/it]"
     ]
    },
    {
     "name": "stdout",
     "output_type": "stream",
     "text": [
      "Sample transcription (audio_558.wav):  What I do on this... ...luxury... ...life... ...is... ...a... ...luxury... ...life... ...life...\n"
     ]
    },
    {
     "name": "stderr",
     "output_type": "stream",
     "text": [
      " 79%|███████▉  | 351/444 [10:58<03:21,  2.17s/it]"
     ]
    },
    {
     "name": "stdout",
     "output_type": "stream",
     "text": [
      "Sample transcription (audio_516.wav):  I love going to the beach. The beach in Costa Rica is one of my favorite places to travel to. Although it is not a white sand beach, the water is fairly calm and it is always warm. There are also food stations scattered around the beach which makes it easy to spend all day there. The people are friendly and there's always something to do. It is also very safe. If you want to, you can explore the beach and see all different types of wildlife including birds and occasionally\n"
     ]
    },
    {
     "name": "stderr",
     "output_type": "stream",
     "text": [
      " 90%|█████████ | 401/444 [12:43<01:26,  2.00s/it]"
     ]
    },
    {
     "name": "stdout",
     "output_type": "stream",
     "text": [
      "Sample transcription (audio_489.wav):  Let's see. My favorite place to visit would be St. Augustine. We generally just drive there because it's a few minutes away. Not a few minutes. It's a few hours away. So it's not that hard of a drive. We like to go before it gets too hot in Florida. And we just walk around the main strip that has all of the boutique shops. And we eat and we go to our favorite restaurant.\n"
     ]
    },
    {
     "name": "stderr",
     "output_type": "stream",
     "text": [
      "100%|██████████| 444/444 [13:59<00:00,  1.89s/it]\n"
     ]
    },
    {
     "name": "stdout",
     "output_type": "stream",
     "text": [
      "Saved transcriptions to transcriptions_train_2.csv\n",
      "Loaded 195 entries from /kaggle/input/shl-hiring-tests/dataset/test.csv\n",
      "Using device: cuda\n"
     ]
    },
    {
     "name": "stderr",
     "output_type": "stream",
     "text": [
      "  1%|          | 1/195 [00:01<03:42,  1.15s/it]"
     ]
    },
    {
     "name": "stdout",
     "output_type": "stream",
     "text": [
      "Sample transcription (audio_706.wav):  Okay, I'll write it down. What are you doing? Why did you call me on the phone? You!\n"
     ]
    },
    {
     "name": "stderr",
     "output_type": "stream",
     "text": [
      " 26%|██▌       | 51/195 [01:36<04:19,  1.80s/it]"
     ]
    },
    {
     "name": "stdout",
     "output_type": "stream",
     "text": [
      "Sample transcription (audio_920.wav):  My best day of my life is my 20th birthday because on that day everyone in my family, my close relatives, my friends were all together to celebrate my 20th birthday. And it was the best day because it creates so many nice memories that always makes me so lucky that\n"
     ]
    },
    {
     "name": "stderr",
     "output_type": "stream",
     "text": [
      " 52%|█████▏    | 101/195 [03:13<02:32,  1.62s/it]"
     ]
    },
    {
     "name": "stdout",
     "output_type": "stream",
     "text": [
      "Sample transcription (audio_103.wav):  I hope that that's all.\n"
     ]
    },
    {
     "name": "stderr",
     "output_type": "stream",
     "text": [
      " 77%|███████▋  | 151/195 [04:45<01:21,  1.84s/it]"
     ]
    },
    {
     "name": "stdout",
     "output_type": "stream",
     "text": [
      "Sample transcription (audio_386.wav):  I\n"
     ]
    },
    {
     "name": "stderr",
     "output_type": "stream",
     "text": [
      "100%|██████████| 195/195 [06:09<00:00,  1.89s/it]"
     ]
    },
    {
     "name": "stdout",
     "output_type": "stream",
     "text": [
      "Saved transcriptions to transcriptions_test_2.csv\n"
     ]
    },
    {
     "name": "stderr",
     "output_type": "stream",
     "text": [
      "\n"
     ]
    }
   ],
   "source": [
    "transcriptions_train = transcribe_dataset('/kaggle/input/shl-hiring-tests/dataset/train.csv', '/kaggle/input/shl-hiring-tests/dataset/audios_train', 'transcriptions_train_2.csv')\n",
    "transcriptions_test = transcribe_dataset('/kaggle/input/shl-hiring-tests/dataset/test.csv', '/kaggle/input/shl-hiring-tests/dataset/audios_test', 'transcriptions_test_2.csv')"
   ]
  },
  {
   "cell_type": "code",
   "execution_count": 63,
   "metadata": {
    "execution": {
     "iopub.execute_input": "2025-04-06T18:55:35.279240Z",
     "iopub.status.busy": "2025-04-06T18:55:35.278986Z",
     "iopub.status.idle": "2025-04-06T18:55:35.291757Z",
     "shell.execute_reply": "2025-04-06T18:55:35.290922Z",
     "shell.execute_reply.started": "2025-04-06T18:55:35.279218Z"
    },
    "trusted": true
   },
   "outputs": [
    {
     "data": {
      "text/html": [
       "<div>\n",
       "<style scoped>\n",
       "    .dataframe tbody tr th:only-of-type {\n",
       "        vertical-align: middle;\n",
       "    }\n",
       "\n",
       "    .dataframe tbody tr th {\n",
       "        vertical-align: top;\n",
       "    }\n",
       "\n",
       "    .dataframe thead th {\n",
       "        text-align: right;\n",
       "    }\n",
       "</style>\n",
       "<table border=\"1\" class=\"dataframe\">\n",
       "  <thead>\n",
       "    <tr style=\"text-align: right;\">\n",
       "      <th></th>\n",
       "      <th>filename</th>\n",
       "      <th>label</th>\n",
       "      <th>transcription</th>\n",
       "    </tr>\n",
       "  </thead>\n",
       "  <tbody>\n",
       "    <tr>\n",
       "      <th>242</th>\n",
       "      <td>audio_611.wav</td>\n",
       "      <td>4.5</td>\n",
       "      <td>You have been so cold to me since I last saw ...</td>\n",
       "    </tr>\n",
       "    <tr>\n",
       "      <th>153</th>\n",
       "      <td>audio_93.wav</td>\n",
       "      <td>3.0</td>\n",
       "      <td>This market is very popular in the city. You ...</td>\n",
       "    </tr>\n",
       "    <tr>\n",
       "      <th>354</th>\n",
       "      <td>audio_1160.wav</td>\n",
       "      <td>5.0</td>\n",
       "      <td>One day one year, I was a little boy. I was a...</td>\n",
       "    </tr>\n",
       "    <tr>\n",
       "      <th>272</th>\n",
       "      <td>audio_469.wav</td>\n",
       "      <td>4.0</td>\n",
       "      <td>I</td>\n",
       "    </tr>\n",
       "    <tr>\n",
       "      <th>134</th>\n",
       "      <td>audio_346.wav</td>\n",
       "      <td>3.0</td>\n",
       "      <td>In my life, the best day is my enjoying the d...</td>\n",
       "    </tr>\n",
       "  </tbody>\n",
       "</table>\n",
       "</div>"
      ],
      "text/plain": [
       "           filename  label                                      transcription\n",
       "242   audio_611.wav    4.5   You have been so cold to me since I last saw ...\n",
       "153    audio_93.wav    3.0   This market is very popular in the city. You ...\n",
       "354  audio_1160.wav    5.0   One day one year, I was a little boy. I was a...\n",
       "272   audio_469.wav    4.0                                                  I\n",
       "134   audio_346.wav    3.0   In my life, the best day is my enjoying the d..."
      ]
     },
     "execution_count": 63,
     "metadata": {},
     "output_type": "execute_result"
    }
   ],
   "source": [
    "# Load the processed training CSV\n",
    "train_df = pd.read_csv(\"/kaggle/working/transcriptions_train_2.csv\")\n",
    "train_df.sample(5)"
   ]
  },
  {
   "cell_type": "code",
   "execution_count": 68,
   "metadata": {
    "execution": {
     "iopub.execute_input": "2025-04-06T18:57:47.338960Z",
     "iopub.status.busy": "2025-04-06T18:57:47.338642Z",
     "iopub.status.idle": "2025-04-06T18:57:47.345572Z",
     "shell.execute_reply": "2025-04-06T18:57:47.344495Z",
     "shell.execute_reply.started": "2025-04-06T18:57:47.338935Z"
    },
    "trusted": true
   },
   "outputs": [
    {
     "data": {
      "text/plain": [
       "' Best day in life is earning money. For everyone its money is most important. So earning ourself is a thing when we start earning. So actually to earn money we have to know some skills. Even if we need money or to earn money we must complete our graduation or studies or need some skills. But if we earn money while we are educating like even in school times. So it'"
      ]
     },
     "execution_count": 68,
     "metadata": {},
     "output_type": "execute_result"
    }
   ],
   "source": [
    "train_df.iloc[5]['transcription']"
   ]
  },
  {
   "cell_type": "code",
   "execution_count": 70,
   "metadata": {
    "execution": {
     "iopub.execute_input": "2025-04-06T18:59:17.890543Z",
     "iopub.status.busy": "2025-04-06T18:59:17.890196Z",
     "iopub.status.idle": "2025-04-06T18:59:17.953746Z",
     "shell.execute_reply": "2025-04-06T18:59:17.952911Z",
     "shell.execute_reply.started": "2025-04-06T18:59:17.890517Z"
    },
    "trusted": true
   },
   "outputs": [],
   "source": [
    "from transformers import RobertaTokenizer, RobertaModel\n",
    "from sklearn.model_selection import train_test_split\n",
    "import pandas as pd\n",
    "import torch\n",
    "from torch.utils.data import Dataset, DataLoader\n",
    "from transformers import (\n",
    "    BertTokenizer,\n",
    "    BertModel,\n",
    "    BertConfig,\n",
    "    AdamW,\n",
    "    get_scheduler\n",
    ")\n",
    "import torch.nn as nn\n"
   ]
  },
  {
   "cell_type": "code",
   "execution_count": 71,
   "metadata": {
    "execution": {
     "iopub.execute_input": "2025-04-06T18:59:19.718267Z",
     "iopub.status.busy": "2025-04-06T18:59:19.717934Z",
     "iopub.status.idle": "2025-04-06T18:59:19.724048Z",
     "shell.execute_reply": "2025-04-06T18:59:19.722944Z",
     "shell.execute_reply.started": "2025-04-06T18:59:19.718239Z"
    },
    "trusted": true
   },
   "outputs": [],
   "source": [
    "#Custom Dataset Class for Grammar Scoring\n",
    "class GrammarDataset(Dataset):\n",
    "    def __init__(self, dataframe, tokenizer, max_length=256):\n",
    "        self.data = dataframe\n",
    "        self.tokenizer = tokenizer\n",
    "        self.max_length = max_length\n",
    "\n",
    "    def __len__(self):\n",
    "        return len(self.data)\n",
    "\n",
    "    def __getitem__(self, idx):\n",
    "        row = self.data.iloc[idx]\n",
    "        encoding = self.tokenizer(\n",
    "            row['transcription'],\n",
    "            truncation=True,\n",
    "            padding='max_length',\n",
    "            max_length=self.max_length,\n",
    "            return_tensors='pt'\n",
    "        )\n",
    "        # Flatten the batch dimension\n",
    "        item = {key: val.squeeze(0) for key, val in encoding.items()}\n",
    "        item['labels'] = torch.tensor(row['label'], dtype=torch.float)\n",
    "        return item\n"
   ]
  },
  {
   "cell_type": "code",
   "execution_count": 72,
   "metadata": {
    "execution": {
     "iopub.execute_input": "2025-04-06T18:59:22.165314Z",
     "iopub.status.busy": "2025-04-06T18:59:22.164984Z",
     "iopub.status.idle": "2025-04-06T18:59:22.170503Z",
     "shell.execute_reply": "2025-04-06T18:59:22.169527Z",
     "shell.execute_reply.started": "2025-04-06T18:59:22.165288Z"
    },
    "trusted": true
   },
   "outputs": [],
   "source": [
    "class GrammarScorer(nn.Module):   #BERT-based Grammar Scorer (Regression Model)\n",
    "    def __init__(self):\n",
    "        super(GrammarScorer, self).__init__()\n",
    "        self.bert = BertModel.from_pretrained(\"bert-base-uncased\")\n",
    "        self.regressor = nn.Linear(self.bert.config.hidden_size, 1)\n",
    "\n",
    "    def forward(self, input_ids, attention_mask):\n",
    "        outputs = self.bert(input_ids=input_ids, attention_mask=attention_mask)\n",
    "        cls_output = outputs.pooler_output  # Use [CLS] token representation\n",
    "        score = self.regressor(cls_output)  # Predict grammar score\n",
    "        return score.squeeze(-1)\n"
   ]
  },
  {
   "cell_type": "code",
   "execution_count": 73,
   "metadata": {
    "execution": {
     "iopub.execute_input": "2025-04-06T18:59:24.624503Z",
     "iopub.status.busy": "2025-04-06T18:59:24.624201Z",
     "iopub.status.idle": "2025-04-06T18:59:25.834385Z",
     "shell.execute_reply": "2025-04-06T18:59:25.833679Z",
     "shell.execute_reply.started": "2025-04-06T18:59:24.624481Z"
    },
    "trusted": true
   },
   "outputs": [
    {
     "data": {
      "application/vnd.jupyter.widget-view+json": {
       "model_id": "75a1092b8efe4f81a3b4aaa34fc4ba88",
       "version_major": 2,
       "version_minor": 0
      },
      "text/plain": [
       "tokenizer_config.json:   0%|          | 0.00/48.0 [00:00<?, ?B/s]"
      ]
     },
     "metadata": {},
     "output_type": "display_data"
    },
    {
     "data": {
      "application/vnd.jupyter.widget-view+json": {
       "model_id": "712116d184514eaea8e6954a9242ab28",
       "version_major": 2,
       "version_minor": 0
      },
      "text/plain": [
       "vocab.txt:   0%|          | 0.00/232k [00:00<?, ?B/s]"
      ]
     },
     "metadata": {},
     "output_type": "display_data"
    },
    {
     "data": {
      "application/vnd.jupyter.widget-view+json": {
       "model_id": "6d36f158edd54ed5a88241b03ba97264",
       "version_major": 2,
       "version_minor": 0
      },
      "text/plain": [
       "tokenizer.json:   0%|          | 0.00/466k [00:00<?, ?B/s]"
      ]
     },
     "metadata": {},
     "output_type": "display_data"
    },
    {
     "data": {
      "application/vnd.jupyter.widget-view+json": {
       "model_id": "4ed8089bd7854355b61d3e5538df07f4",
       "version_major": 2,
       "version_minor": 0
      },
      "text/plain": [
       "config.json:   0%|          | 0.00/570 [00:00<?, ?B/s]"
      ]
     },
     "metadata": {},
     "output_type": "display_data"
    }
   ],
   "source": [
    "from sklearn.metrics import mean_absolute_error\n",
    "from tqdm import tqdm\n",
    "import numpy as np\n",
    "import torch.nn as nn\n",
    "\n",
    "# Split into training and testing\n",
    "train_df, test_df = train_test_split(train_df, test_size=0.2, random_state=42)\n",
    "\n",
    "# Tokenizer for BERT\n",
    "tokenizer = BertTokenizer.from_pretrained(\"bert-base-uncased\")\n",
    "\n",
    "# Create datasets and data loaders\n",
    "train_dataset = GrammarDataset(train_df, tokenizer)\n",
    "test_dataset = GrammarDataset(test_df, tokenizer)\n",
    "\n",
    "train_loader = DataLoader(train_dataset, batch_size=8, shuffle=True)\n",
    "test_loader = DataLoader(test_dataset, batch_size=8, shuffle=False)\n"
   ]
  },
  {
   "cell_type": "code",
   "execution_count": 74,
   "metadata": {
    "execution": {
     "iopub.execute_input": "2025-04-06T18:59:30.680606Z",
     "iopub.status.busy": "2025-04-06T18:59:30.680293Z",
     "iopub.status.idle": "2025-04-06T19:01:10.284184Z",
     "shell.execute_reply": "2025-04-06T19:01:10.283321Z",
     "shell.execute_reply.started": "2025-04-06T18:59:30.680573Z"
    },
    "trusted": true
   },
   "outputs": [
    {
     "data": {
      "application/vnd.jupyter.widget-view+json": {
       "model_id": "5b8b9f9a1c7243fda31a90b248c24405",
       "version_major": 2,
       "version_minor": 0
      },
      "text/plain": [
       "model.safetensors:   0%|          | 0.00/440M [00:00<?, ?B/s]"
      ]
     },
     "metadata": {},
     "output_type": "display_data"
    },
    {
     "name": "stderr",
     "output_type": "stream",
     "text": [
      "/usr/local/lib/python3.10/dist-packages/transformers/optimization.py:591: FutureWarning: This implementation of AdamW is deprecated and will be removed in a future version. Use the PyTorch implementation torch.optim.AdamW instead, or set `no_deprecation_warning=True` to disable this warning\n",
      "  warnings.warn(\n",
      "100%|██████████| 45/45 [00:09<00:00,  4.58it/s]\n"
     ]
    },
    {
     "name": "stdout",
     "output_type": "stream",
     "text": [
      "Epoch 1 - Training Loss: 3.2999\n"
     ]
    },
    {
     "name": "stderr",
     "output_type": "stream",
     "text": [
      "100%|██████████| 45/45 [00:09<00:00,  4.64it/s]\n"
     ]
    },
    {
     "name": "stdout",
     "output_type": "stream",
     "text": [
      "Epoch 2 - Training Loss: 0.8964\n"
     ]
    },
    {
     "name": "stderr",
     "output_type": "stream",
     "text": [
      "100%|██████████| 45/45 [00:09<00:00,  4.64it/s]\n"
     ]
    },
    {
     "name": "stdout",
     "output_type": "stream",
     "text": [
      "Epoch 3 - Training Loss: 0.5216\n"
     ]
    },
    {
     "name": "stderr",
     "output_type": "stream",
     "text": [
      "100%|██████████| 45/45 [00:09<00:00,  4.64it/s]\n"
     ]
    },
    {
     "name": "stdout",
     "output_type": "stream",
     "text": [
      "Epoch 4 - Training Loss: 0.3782\n"
     ]
    },
    {
     "name": "stderr",
     "output_type": "stream",
     "text": [
      "100%|██████████| 45/45 [00:09<00:00,  4.65it/s]\n"
     ]
    },
    {
     "name": "stdout",
     "output_type": "stream",
     "text": [
      "Epoch 5 - Training Loss: 0.2779\n"
     ]
    },
    {
     "name": "stderr",
     "output_type": "stream",
     "text": [
      "100%|██████████| 45/45 [00:09<00:00,  4.64it/s]\n"
     ]
    },
    {
     "name": "stdout",
     "output_type": "stream",
     "text": [
      "Epoch 6 - Training Loss: 0.2002\n"
     ]
    },
    {
     "name": "stderr",
     "output_type": "stream",
     "text": [
      "100%|██████████| 45/45 [00:09<00:00,  4.65it/s]\n"
     ]
    },
    {
     "name": "stdout",
     "output_type": "stream",
     "text": [
      "Epoch 7 - Training Loss: 0.1957\n"
     ]
    },
    {
     "name": "stderr",
     "output_type": "stream",
     "text": [
      "100%|██████████| 45/45 [00:09<00:00,  4.65it/s]\n"
     ]
    },
    {
     "name": "stdout",
     "output_type": "stream",
     "text": [
      "Epoch 8 - Training Loss: 0.1430\n"
     ]
    },
    {
     "name": "stderr",
     "output_type": "stream",
     "text": [
      "100%|██████████| 45/45 [00:09<00:00,  4.66it/s]\n"
     ]
    },
    {
     "name": "stdout",
     "output_type": "stream",
     "text": [
      "Epoch 9 - Training Loss: 0.1516\n"
     ]
    },
    {
     "name": "stderr",
     "output_type": "stream",
     "text": [
      "100%|██████████| 45/45 [00:09<00:00,  4.64it/s]"
     ]
    },
    {
     "name": "stdout",
     "output_type": "stream",
     "text": [
      "Epoch 10 - Training Loss: 0.1263\n"
     ]
    },
    {
     "name": "stderr",
     "output_type": "stream",
     "text": [
      "\n"
     ]
    }
   ],
   "source": [
    "# Initialize model and optimizer\n",
    "model = GrammarScorer().cuda()\n",
    "optimizer = AdamW(model.parameters(), lr=2e-5)\n",
    "\n",
    "# Linear LR scheduler\n",
    "num_epochs = 10\n",
    "num_training_steps = num_epochs * len(train_loader)\n",
    "lr_scheduler = get_scheduler(\"linear\", optimizer=optimizer, num_warmup_steps=0, num_training_steps=num_training_steps)\n",
    "\n",
    "# Loss function: Mean Squared Error\n",
    "loss_fn = nn.MSELoss()\n",
    "\n",
    "# Training loop\n",
    "for epoch in range(num_epochs):\n",
    "    model.train()\n",
    "    total_loss = 0\n",
    "    for batch in tqdm(train_loader):\n",
    "        input_ids = batch['input_ids'].cuda()\n",
    "        attention_mask = batch['attention_mask'].cuda()\n",
    "        labels = batch['labels'].cuda()\n",
    "\n",
    "        optimizer.zero_grad()\n",
    "        outputs = model(input_ids=input_ids, attention_mask=attention_mask)\n",
    "        loss = loss_fn(outputs, labels)\n",
    "        loss.backward()\n",
    "        optimizer.step()\n",
    "        lr_scheduler.step()\n",
    "\n",
    "        total_loss += loss.item()\n",
    "\n",
    "    print(f\"Epoch {epoch+1} - Training Loss: {total_loss/len(train_loader):.4f}\")\n"
   ]
  },
  {
   "cell_type": "code",
   "execution_count": 75,
   "metadata": {
    "execution": {
     "iopub.execute_input": "2025-04-06T19:02:58.000202Z",
     "iopub.status.busy": "2025-04-06T19:02:57.999834Z",
     "iopub.status.idle": "2025-04-06T19:02:58.780104Z",
     "shell.execute_reply": "2025-04-06T19:02:58.779197Z",
     "shell.execute_reply.started": "2025-04-06T19:02:58.000172Z"
    },
    "trusted": true
   },
   "outputs": [
    {
     "name": "stdout",
     "output_type": "stream",
     "text": [
      "Test MAE: 0.674\n",
      "Test MSE: 0.935\n"
     ]
    }
   ],
   "source": [
    "from sklearn.metrics import mean_absolute_error, mean_squared_error\n",
    "\n",
    "# Set model to evaluation mode\n",
    "model.eval()\n",
    "predictions = []\n",
    "true_labels = []\n",
    "\n",
    "# Inference loop\n",
    "with torch.no_grad():\n",
    "    for batch in test_loader:\n",
    "        input_ids = batch['input_ids'].cuda()\n",
    "        attention_mask = batch['attention_mask'].cuda()\n",
    "        labels = batch['labels'].cpu().numpy()\n",
    "        outputs = model(input_ids=input_ids, attention_mask=attention_mask).cpu().numpy()\n",
    "\n",
    "        predictions.extend(outputs)\n",
    "        true_labels.extend(labels)\n",
    "\n",
    "# Calculate and print metrics\n",
    "mae = mean_absolute_error(true_labels, predictions)\n",
    "mse = mean_squared_error(true_labels, predictions)\n",
    "\n",
    "print(f\"Test MAE: {mae:.3f}\")\n",
    "print(f\"Test MSE: {mse:.3f}\")\n"
   ]
  },
  {
   "cell_type": "code",
   "execution_count": 76,
   "metadata": {
    "execution": {
     "iopub.execute_input": "2025-04-06T19:03:03.560540Z",
     "iopub.status.busy": "2025-04-06T19:03:03.560203Z",
     "iopub.status.idle": "2025-04-06T19:03:03.573125Z",
     "shell.execute_reply": "2025-04-06T19:03:03.572317Z",
     "shell.execute_reply.started": "2025-04-06T19:03:03.560515Z"
    },
    "trusted": true
   },
   "outputs": [
    {
     "data": {
      "text/html": [
       "<div>\n",
       "<style scoped>\n",
       "    .dataframe tbody tr th:only-of-type {\n",
       "        vertical-align: middle;\n",
       "    }\n",
       "\n",
       "    .dataframe tbody tr th {\n",
       "        vertical-align: top;\n",
       "    }\n",
       "\n",
       "    .dataframe thead th {\n",
       "        text-align: right;\n",
       "    }\n",
       "</style>\n",
       "<table border=\"1\" class=\"dataframe\">\n",
       "  <thead>\n",
       "    <tr style=\"text-align: right;\">\n",
       "      <th></th>\n",
       "      <th>filename</th>\n",
       "      <th>transcription</th>\n",
       "    </tr>\n",
       "  </thead>\n",
       "  <tbody>\n",
       "    <tr>\n",
       "      <th>0</th>\n",
       "      <td>audio_706.wav</td>\n",
       "      <td>Okay, I'll write it down. What are you doing?...</td>\n",
       "    </tr>\n",
       "    <tr>\n",
       "      <th>1</th>\n",
       "      <td>audio_800.wav</td>\n",
       "      <td>My hobbies are playing cricket because I am a...</td>\n",
       "    </tr>\n",
       "    <tr>\n",
       "      <th>2</th>\n",
       "      <td>audio_68.wav</td>\n",
       "      <td>Yes, at this market you can find a lot of thi...</td>\n",
       "    </tr>\n",
       "    <tr>\n",
       "      <th>3</th>\n",
       "      <td>audio_1267.wav</td>\n",
       "      <td>My goal is I become an interpreter, entrepren...</td>\n",
       "    </tr>\n",
       "    <tr>\n",
       "      <th>4</th>\n",
       "      <td>audio_683.wav</td>\n",
       "      <td>okay in in code market there's a lot of peopl...</td>\n",
       "    </tr>\n",
       "  </tbody>\n",
       "</table>\n",
       "</div>"
      ],
      "text/plain": [
       "         filename                                      transcription\n",
       "0   audio_706.wav   Okay, I'll write it down. What are you doing?...\n",
       "1   audio_800.wav   My hobbies are playing cricket because I am a...\n",
       "2    audio_68.wav   Yes, at this market you can find a lot of thi...\n",
       "3  audio_1267.wav   My goal is I become an interpreter, entrepren...\n",
       "4   audio_683.wav   okay in in code market there's a lot of peopl..."
      ]
     },
     "execution_count": 76,
     "metadata": {},
     "output_type": "execute_result"
    }
   ],
   "source": [
    "import pandas as pd\n",
    "import torch\n",
    "from torch.utils.data import Dataset, DataLoader\n",
    "from transformers import BertTokenizer\n",
    "from tqdm import tqdm\n",
    "\n",
    "# Load test file\n",
    "test_path = \"/kaggle/working/transcriptions_test_2.csv\"\n",
    "test_df = pd.read_csv(test_path)\n",
    "\n",
    "test_df.head()\n"
   ]
  },
  {
   "cell_type": "code",
   "execution_count": 77,
   "metadata": {
    "execution": {
     "iopub.execute_input": "2025-04-06T19:03:12.105358Z",
     "iopub.status.busy": "2025-04-06T19:03:12.105070Z",
     "iopub.status.idle": "2025-04-06T19:03:13.784212Z",
     "shell.execute_reply": "2025-04-06T19:03:13.783238Z",
     "shell.execute_reply.started": "2025-04-06T19:03:12.105336Z"
    },
    "trusted": true
   },
   "outputs": [
    {
     "name": "stderr",
     "output_type": "stream",
     "text": [
      "100%|██████████| 25/25 [00:01<00:00, 16.87it/s]\n"
     ]
    }
   ],
   "source": [
    "# Check required columns\n",
    "assert 'filename' in test_df.columns, \"'filename' column missing\"\n",
    "assert 'transcription' in test_df.columns, \"'transcription' column missing\"\n",
    "\n",
    "# Load tokenizer (same as training)\n",
    "tokenizer = BertTokenizer.from_pretrained(\"bert-base-uncased\")\n",
    "\n",
    "# Dataset class for test\n",
    "class InferenceDataset(Dataset):\n",
    "    def __init__(self, dataframe, tokenizer, max_length=200):\n",
    "        self.data = dataframe\n",
    "        self.tokenizer = tokenizer\n",
    "        self.max_length = max_length\n",
    "\n",
    "    def __len__(self):\n",
    "        return len(self.data)\n",
    "\n",
    "    def __getitem__(self, idx):\n",
    "        transcription = self.data.iloc[idx]['transcription']\n",
    "        encoding = self.tokenizer(\n",
    "            transcription,\n",
    "            truncation=True,\n",
    "            padding='max_length',\n",
    "            max_length=self.max_length,\n",
    "            return_tensors='pt'\n",
    "        )\n",
    "        return {key: val.squeeze(0) for key, val in encoding.items()}\n",
    "\n",
    "# Create DataLoader\n",
    "inference_dataset = InferenceDataset(test_df, tokenizer)\n",
    "inference_loader = DataLoader(inference_dataset, batch_size=8, shuffle=False)\n",
    "\n",
    "# Run inference\n",
    "model.eval()\n",
    "predictions = []\n",
    "\n",
    "with torch.no_grad():\n",
    "    for batch in tqdm(inference_loader):\n",
    "        input_ids = batch['input_ids'].cuda()\n",
    "        attention_mask = batch['attention_mask'].cuda()\n",
    "\n",
    "        outputs = model(input_ids=input_ids, attention_mask=attention_mask).cpu().numpy()\n",
    "        predictions.extend(outputs)\n",
    "\n",
    "# Clip predictions to valid range (1 to 5)\n",
    "predictions = np.clip(predictions, 1, 5)\n",
    "\n"
   ]
  },
  {
   "cell_type": "code",
   "execution_count": 78,
   "metadata": {
    "execution": {
     "iopub.execute_input": "2025-04-06T19:03:18.944189Z",
     "iopub.status.busy": "2025-04-06T19:03:18.943867Z",
     "iopub.status.idle": "2025-04-06T19:03:18.954365Z",
     "shell.execute_reply": "2025-04-06T19:03:18.953413Z",
     "shell.execute_reply.started": "2025-04-06T19:03:18.944160Z"
    },
    "trusted": true
   },
   "outputs": [
    {
     "name": "stdout",
     "output_type": "stream",
     "text": [
      "Saved predictions to: /kaggle/working/predictions_11.csv\n"
     ]
    }
   ],
   "source": [
    "# Add predictions to dataframe\n",
    "test_df['label'] = np.round(predictions, 2)  # You can also round to nearest int if needed\n",
    "\n",
    "# Save result\n",
    "save_path = \"/kaggle/working/predictions_11.csv\"\n",
    "test_df[['filename', 'label']].to_csv(save_path, index=False)\n",
    "\n",
    "print(f\"Saved predictions to: {save_path}\")"
   ]
  },
  {
   "cell_type": "code",
   "execution_count": 80,
   "metadata": {
    "execution": {
     "iopub.execute_input": "2025-04-06T19:07:25.223698Z",
     "iopub.status.busy": "2025-04-06T19:07:25.223343Z",
     "iopub.status.idle": "2025-04-06T19:07:25.475137Z",
     "shell.execute_reply": "2025-04-06T19:07:25.474196Z",
     "shell.execute_reply.started": "2025-04-06T19:07:25.223667Z"
    },
    "trusted": true
   },
   "outputs": [
    {
     "name": "stderr",
     "output_type": "stream",
     "text": [
      "/usr/local/lib/python3.10/dist-packages/seaborn/_oldcore.py:1119: FutureWarning: use_inf_as_na option is deprecated and will be removed in a future version. Convert inf values to NaN before operating instead.\n",
      "  with pd.option_context('mode.use_inf_as_na', True):\n"
     ]
    },
    {
     "data": {
      "image/png": "[encoded data removed]",
      "text/plain": [
       "<Figure size 600x300 with 1 Axes>"
      ]
     },
     "metadata": {},
     "output_type": "display_data"
    }
   ],
   "source": [
    "# Visualize score distribution\n",
    "plt.figure(figsize=(6, 3))\n",
    "sns.histplot(test_df['label'], bins=20, kde=True)\n",
    "plt.title('Distribution of Predicted Grammar Scores')\n",
    "plt.xlabel('Score')\n",
    "plt.ylabel('Count')\n",
    "plt.show()"
   ]
  },
  {
   "cell_type": "code",
   "execution_count": null,
   "metadata": {
    "trusted": true
   },
   "outputs": [],
   "source": []
  }
 ],
 "metadata": {
  "kaggle": {
   "accelerator": "gpu",
   "dataSources": [
    {
     "datasetId": 7053598,
     "sourceId": 11281943,
     "sourceType": "datasetVersion"
    }
   ],
   "dockerImageVersionId": 30919,
   "isGpuEnabled": true,
   "isInternetEnabled": true,
   "language": "python",
   "sourceType": "notebook"
  },
  "kernelspec": {
   "display_name": "Python 3",
   "language": "python",
   "name": "python3"
  },
  "language_info": {
   "codemirror_mode": {
    "name": "ipython",
    "version": 3
   },
   "file_extension": ".py",
   "mimetype": "text/x-python",
   "name": "python",
   "nbconvert_exporter": "python",
   "pygments_lexer": "ipython3",
   "version": "3.10.12"
  }
 },
 "nbformat": 4,
 "nbformat_minor": 4
}
